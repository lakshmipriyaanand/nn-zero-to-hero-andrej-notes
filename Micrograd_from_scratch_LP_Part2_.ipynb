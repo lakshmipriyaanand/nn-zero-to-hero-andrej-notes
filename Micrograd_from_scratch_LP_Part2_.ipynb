{
  "nbformat": 4,
  "nbformat_minor": 0,
  "metadata": {
    "colab": {
      "provenance": [],
      "authorship_tag": "ABX9TyMTyvIggQf0lY68WiRJjpZR",
      "include_colab_link": true
    },
    "kernelspec": {
      "name": "python3",
      "display_name": "Python 3"
    },
    "language_info": {
      "name": "python"
    }
  },
  "cells": [
    {
      "cell_type": "markdown",
      "metadata": {
        "id": "view-in-github",
        "colab_type": "text"
      },
      "source": [
        "<a href=\"https://colab.research.google.com/github/lakshmipriyaanand/nn-zero-to-hero-andrej-notes/blob/main/Micrograd_from_scratch_LP_Part2_.ipynb\" target=\"_parent\"><img src=\"https://colab.research.google.com/assets/colab-badge.svg\" alt=\"Open In Colab\"/></a>"
      ]
    },
    {
      "cell_type": "code",
      "source": [
        "## Installing Micrograd"
      ],
      "metadata": {
        "id": "JzFInHtI8Uix"
      },
      "execution_count": 1,
      "outputs": []
    },
    {
      "cell_type": "code",
      "execution_count": 2,
      "metadata": {
        "id": "kZbCS6Wh8KUJ",
        "colab": {
          "base_uri": "https://localhost:8080/"
        },
        "outputId": "bacd16dc-39c8-4634-b72b-1ac3bbef3aa8"
      },
      "outputs": [
        {
          "output_type": "stream",
          "name": "stdout",
          "text": [
            "Collecting micrograd\n",
            "  Downloading micrograd-0.1.0-py3-none-any.whl.metadata (2.6 kB)\n",
            "Downloading micrograd-0.1.0-py3-none-any.whl (4.9 kB)\n",
            "Installing collected packages: micrograd\n",
            "Successfully installed micrograd-0.1.0\n"
          ]
        }
      ],
      "source": [
        "pip install micrograd"
      ]
    },
    {
      "cell_type": "code",
      "source": [
        "import math\n",
        "import numpy as np\n",
        "import matplotlib.pyplot as plt\n",
        "%matplotlib inline"
      ],
      "metadata": {
        "id": "OA4iHVT4TXOe"
      },
      "execution_count": 3,
      "outputs": []
    },
    {
      "cell_type": "code",
      "source": [
        "#Derivative of a simple function with one input\n",
        "\n",
        "def f(x):\n",
        "  return 3*x**2 - 4*x +5"
      ],
      "metadata": {
        "id": "AMSyxYbDTdWh"
      },
      "execution_count": 4,
      "outputs": []
    },
    {
      "cell_type": "code",
      "source": [
        "f(3.0)"
      ],
      "metadata": {
        "id": "ALcLnv-LUBMa",
        "colab": {
          "base_uri": "https://localhost:8080/"
        },
        "outputId": "8c276af9-a1c1-4368-dd0c-b6c4a2e83f20"
      },
      "execution_count": 5,
      "outputs": [
        {
          "output_type": "execute_result",
          "data": {
            "text/plain": [
              "20.0"
            ]
          },
          "metadata": {},
          "execution_count": 5
        }
      ]
    },
    {
      "cell_type": "code",
      "source": [
        "xs=np.arange(-5,5,0.25)\n",
        "ys=f(xs)\n",
        "ys"
      ],
      "metadata": {
        "id": "dhLed04jUJga",
        "colab": {
          "base_uri": "https://localhost:8080/"
        },
        "outputId": "aed621ba-2368-43bd-8a66-55ff9e4259f0"
      },
      "execution_count": 6,
      "outputs": [
        {
          "output_type": "execute_result",
          "data": {
            "text/plain": [
              "array([100.    ,  91.6875,  83.75  ,  76.1875,  69.    ,  62.1875,\n",
              "        55.75  ,  49.6875,  44.    ,  38.6875,  33.75  ,  29.1875,\n",
              "        25.    ,  21.1875,  17.75  ,  14.6875,  12.    ,   9.6875,\n",
              "         7.75  ,   6.1875,   5.    ,   4.1875,   3.75  ,   3.6875,\n",
              "         4.    ,   4.6875,   5.75  ,   7.1875,   9.    ,  11.1875,\n",
              "        13.75  ,  16.6875,  20.    ,  23.6875,  27.75  ,  32.1875,\n",
              "        37.    ,  42.1875,  47.75  ,  53.6875])"
            ]
          },
          "metadata": {},
          "execution_count": 6
        }
      ]
    },
    {
      "cell_type": "code",
      "source": [
        "plt.plot(xs,ys)"
      ],
      "metadata": {
        "id": "wET32B3WUKkt",
        "colab": {
          "base_uri": "https://localhost:8080/",
          "height": 448
        },
        "outputId": "12fa0cc8-3d35-4905-ebfd-9ef961f18b07"
      },
      "execution_count": 7,
      "outputs": [
        {
          "output_type": "execute_result",
          "data": {
            "text/plain": [
              "[<matplotlib.lines.Line2D at 0x7bdabdf1d670>]"
            ]
          },
          "metadata": {},
          "execution_count": 7
        },
        {
          "output_type": "display_data",
          "data": {
            "text/plain": [
              "<Figure size 640x480 with 1 Axes>"
            ],
            "image/png": "[encoded data removed]"
          },
          "metadata": {}
        }
      ]
    },
    {
      "cell_type": "code",
      "source": [
        "h=0.00000001\n",
        "x=2/3\n",
        "(f(x + h) - f(x))/h"
      ],
      "metadata": {
        "id": "6SABzAFRXbl2",
        "colab": {
          "base_uri": "https://localhost:8080/"
        },
        "outputId": "2030b9d9-2417-40b3-9f2a-21fc9b372c9e"
      },
      "execution_count": 8,
      "outputs": [
        {
          "output_type": "execute_result",
          "data": {
            "text/plain": [
              "0.0"
            ]
          },
          "metadata": {},
          "execution_count": 8
        }
      ]
    },
    {
      "cell_type": "code",
      "source": [
        "from micrograd.engine import Value\n",
        "\n",
        "a = Value(-4.0)\n",
        "b = Value(2.0)\n",
        "c = a + b\n",
        "d = a * b + b**3\n",
        "c += c + 1\n",
        "c += 1 + c + (-a)\n",
        "d += d * 2 + (b + a).relu()\n",
        "d += 3 * d + (b - a).relu()\n",
        "e = c - d\n",
        "f = e**2\n",
        "g = f / 2.0\n",
        "g += 10.0 / f\n",
        "print(f'{g.data:.4f}') # prints 24.7041, the outcome of this forward pass\n",
        "g.backward()\n",
        "print(f'{a.grad:.4f}') # prints 138.8338, i.e. the numerical value of dg/da\n",
        "print(f'{b.grad:.4f}') # prints 645.5773, i.e. the numerical value of dg/db"
      ],
      "metadata": {
        "id": "vOiUuYxwXDr5",
        "colab": {
          "base_uri": "https://localhost:8080/"
        },
        "outputId": "c3a20da7-131e-4069-bba1-389d854b5f47"
      },
      "execution_count": 9,
      "outputs": [
        {
          "output_type": "stream",
          "name": "stdout",
          "text": [
            "24.7041\n",
            "138.8338\n",
            "645.5773\n"
          ]
        }
      ]
    },
    {
      "cell_type": "code",
      "source": [
        "#lets get more complex\n",
        "a=2.0\n",
        "b=-3.0\n",
        "c=10.0\n",
        "d=a*b+c\n",
        "print(d)"
      ],
      "metadata": {
        "id": "zdSyi5kTgkeY",
        "colab": {
          "base_uri": "https://localhost:8080/"
        },
        "outputId": "baf7debc-b401-4209-b6dd-7aecf8680717"
      },
      "execution_count": 10,
      "outputs": [
        {
          "output_type": "stream",
          "name": "stdout",
          "text": [
            "4.0\n"
          ]
        }
      ]
    },
    {
      "cell_type": "code",
      "source": [
        "h=0.0001\n",
        "\n",
        "#inouts\n",
        "a= 2.0\n",
        "b= -3.0\n",
        "c= 10.0\n",
        "\n",
        "d1 = a*b+c\n",
        "c+=h\n",
        "d2 = a*b+c\n",
        "print('d1', d1)\n",
        "print('d2', d2)\n",
        "print('slope', (d2 - d1)/h)"
      ],
      "metadata": {
        "id": "XGz5OL5Yf56Q",
        "colab": {
          "base_uri": "https://localhost:8080/"
        },
        "outputId": "517a5b3c-f031-4195-b39b-f635a93c6b5f"
      },
      "execution_count": 11,
      "outputs": [
        {
          "output_type": "stream",
          "name": "stdout",
          "text": [
            "d1 4.0\n",
            "d2 4.0001\n",
            "slope 0.9999999999976694\n"
          ]
        }
      ]
    },
    {
      "cell_type": "code",
      "source": [
        "from graphviz import Digraph\n",
        "\n",
        "def trace(root):\n",
        "  # builds a set of all nodes and edges in a graph\n",
        "  nodes, edges = set(), set()\n",
        "  def build(v):\n",
        "    if v not in nodes:\n",
        "      nodes.add(v)\n",
        "      for child in v._prev:\n",
        "        edges.add((child, v))\n",
        "        build(child)\n",
        "  build(root)\n",
        "  return nodes, edges\n",
        "\n",
        "def draw_dot(root):\n",
        "  dot = Digraph(format='svg', graph_attr={'rankdir': 'LR'}) # LR = left to right\n",
        "\n",
        "  nodes, edges = trace(root)\n",
        "  for n in nodes:\n",
        "    uid = str(id(n))\n",
        "    # for any value in the graph, create a rectangular ('record') node for it\n",
        "    dot.node(name = uid, label = \"{ %s | data %.4f | grad %.4f }\" % (n.label, n.data,n.grad), shape='record')\n",
        "    if n._op:\n",
        "      # if this value is a result of some operation, create an op node for it\n",
        "      dot.node(name = uid + n._op, label = n._op)\n",
        "      # and connect this node to it\n",
        "      dot.edge(uid + n._op, uid)\n",
        "\n",
        "  for n1, n2 in edges:\n",
        "    # connect n1 to the op node of n2\n",
        "    dot.edge(str(id(n1)), str(id(n2)) + n2._op)\n",
        "\n",
        "  return dot"
      ],
      "metadata": {
        "id": "Z2gBjR8kvkp6"
      },
      "execution_count": 12,
      "outputs": []
    },
    {
      "cell_type": "code",
      "source": [
        "#Initialising class value\n",
        "\n",
        "class Value:\n",
        "  def __init__(self,data,_children=(),_op='',label=''):\n",
        "    self.data=data\n",
        "    self._prev=set(_children)\n",
        "    self._op=_op\n",
        "    self.grad= 0.0 #Default basic value is 0.0 - initialized\n",
        "    self.label = label\n",
        "    self._backward = lambda: None #Default it is none lambda function (leaf node)\n",
        "\n",
        "  def __repr__(self):\n",
        "    return f\"Value(data={self.data})\"\n",
        "\n",
        "  def __add__(self,other):\n",
        "    other = other if isinstance(other,Value) else Value(other)\n",
        "    out = Value(self.data + other.data,(self,other),'+')\n",
        "    def _backward():\n",
        "      self.grad += 1.0 * out.grad\n",
        "      other.grad += 1.0 * out.grad\n",
        "    out._backward = _backward\n",
        "    return out\n",
        "\n",
        "  def __mul__(self,other):\n",
        "    other = other if isinstance(other,Value) else Value(other)\n",
        "    out = Value(self.data * other.data,(self,other),'*')\n",
        "    def _backward():\n",
        "      self.grad += other.data * out.grad\n",
        "      other.grad += self.data * out.grad\n",
        "    out._backward = _backward\n",
        "    return out\n",
        "\n",
        "  def __pow__(self,other):\n",
        "    assert isinstance(other,(int,float)), \"only supporting int/float powers for now\"\n",
        "    out = Value(self.data**other,(self,),f'**{other}')\n",
        "    def _backward():\n",
        "      self.grad += (other * self.data**(other-1)) * out.grad\n",
        "    out._backward = _backward\n",
        "    return out\n",
        "\n",
        "  def __rmul__(self,other):  #Does other * self\n",
        "    return self * other\n",
        "\n",
        "  def __truediv__(self,other): #self/other\n",
        "    return self * other**-1\n",
        "\n",
        "  def __neg__(self): # -self\n",
        "    return self * -1\n",
        "\n",
        "  def __sub__(self,other): #self - other\n",
        "    return self + (-other)\n",
        "\n",
        "  def __radd__(self,other): #other + self\n",
        "    return self + other\n",
        "\n",
        "  def tanh(self):\n",
        "    x = self.data\n",
        "    t = (math.exp(2*x)-1)/(math.exp(2*x)+1)\n",
        "    out = Value(t,(self, ),'tanh')\n",
        "    def _backward():\n",
        "      self.grad += (1 - t**2) * out.grad\n",
        "    out._backward = _backward\n",
        "    return out\n",
        "\n",
        "  def exp(self):\n",
        "    x = self.data\n",
        "    out = Value(math.exp(x),(self,),'exp')\n",
        "    def _backward():\n",
        "      self.grad += out.data * out.grad\n",
        "    out._backward = _backward\n",
        "    return out\n",
        "\n",
        "  def backward(self): #Declaring automatic gradient value provider function instead of manual calculation\n",
        "    topo = []\n",
        "    visited = set()\n",
        "    def build_topo(v):\n",
        "      if v not in visited:\n",
        "        visited.add(v)\n",
        "        for child in v._prev:\n",
        "          build_topo(child)\n",
        "        topo.append(v)\n",
        "    build_topo(self)\n",
        "\n",
        "    self.grad = 1.0\n",
        "    for node in reversed(topo):\n",
        "      node._backward()"
      ],
      "metadata": {
        "id": "Or2qTA23hiny"
      },
      "execution_count": 60,
      "outputs": []
    },
    {
      "cell_type": "code",
      "source": [
        "#If we give a = Value(2.0) , a+1 . It considers self=a and other=1. And tries to perform addition. But other=1 is not valid.\n",
        "#So, we are adding \"isinstance\" and checking whether other is a value, if not, it tries to change it to Value\n",
        "\n",
        "#Also if we try , 2+a or 2*a , it will throw the error, as python usually runs like 2.__mul__(a).\n",
        "#So for this issue , python allows us to define something call __rmul__().\n",
        "#If a python can't do 2*a , our python checks if any rmul is defined and rmul just swaps the position and does a*2.\n",
        "\n",
        "2 * a"
      ],
      "metadata": {
        "colab": {
          "base_uri": "https://localhost:8080/"
        },
        "id": "ZQT3JUc5tOIT",
        "outputId": "83dbb0e8-2a32-4f0a-f716-e11ecda5c402"
      },
      "execution_count": 14,
      "outputs": [
        {
          "output_type": "execute_result",
          "data": {
            "text/plain": [
              "4.0"
            ]
          },
          "metadata": {},
          "execution_count": 14
        }
      ]
    },
    {
      "cell_type": "markdown",
      "source": [
        "#Breaking the Tanh function"
      ],
      "metadata": {
        "id": "5AiJKvuBb2a2"
      }
    },
    {
      "cell_type": "code",
      "source": [
        "#We added exponential function to Value class so trying that out\n",
        "y = Value(2.0)\n",
        "y.exp() #e_power_y"
      ],
      "metadata": {
        "colab": {
          "base_uri": "https://localhost:8080/"
        },
        "id": "cfNt98zuEDpr",
        "outputId": "5835a07e-a056-4ef4-99c6-3e893cb4f7d5"
      },
      "execution_count": 15,
      "outputs": [
        {
          "output_type": "execute_result",
          "data": {
            "text/plain": [
              "Value(data=7.38905609893065)"
            ]
          },
          "metadata": {},
          "execution_count": 15
        }
      ]
    },
    {
      "cell_type": "code",
      "source": [
        "#Trying our division functionalities\n",
        "a = Value(2.0)\n",
        "b = Value(3.0)\n",
        "a/b #We get TypeError as unsupported operand without division function"
      ],
      "metadata": {
        "colab": {
          "base_uri": "https://localhost:8080/"
        },
        "id": "GELgbepDEZrT",
        "outputId": "002d8ecf-fae3-4148-8e20-2b273eda8d3f"
      },
      "execution_count": 16,
      "outputs": [
        {
          "output_type": "execute_result",
          "data": {
            "text/plain": [
              "Value(data=0.6666666666666666)"
            ]
          },
          "metadata": {},
          "execution_count": 16
        }
      ]
    },
    {
      "cell_type": "code",
      "source": [
        "a ** 3"
      ],
      "metadata": {
        "colab": {
          "base_uri": "https://localhost:8080/"
        },
        "id": "piPjCDpWcUto",
        "outputId": "f2c79e52-68cf-43da-b9a3-0c7f88d19386"
      },
      "execution_count": 17,
      "outputs": [
        {
          "output_type": "execute_result",
          "data": {
            "text/plain": [
              "Value(data=8.0)"
            ]
          },
          "metadata": {},
          "execution_count": 17
        }
      ]
    },
    {
      "cell_type": "code",
      "source": [
        "a - b"
      ],
      "metadata": {
        "colab": {
          "base_uri": "https://localhost:8080/"
        },
        "id": "tZpfUP5GfqZs",
        "outputId": "5ea53f0c-8b31-4477-9603-d008ab43ef9b"
      },
      "execution_count": 18,
      "outputs": [
        {
          "output_type": "execute_result",
          "data": {
            "text/plain": [
              "Value(data=-1.0)"
            ]
          },
          "metadata": {},
          "execution_count": 18
        }
      ]
    },
    {
      "cell_type": "code",
      "source": [
        "x = -a\n",
        "x"
      ],
      "metadata": {
        "colab": {
          "base_uri": "https://localhost:8080/"
        },
        "id": "LHMvIrTDfxiR",
        "outputId": "b330dcd6-61c6-41c6-c0f4-fb336c7f552e"
      },
      "execution_count": 19,
      "outputs": [
        {
          "output_type": "execute_result",
          "data": {
            "text/plain": [
              "Value(data=-2.0)"
            ]
          },
          "metadata": {},
          "execution_count": 19
        }
      ]
    },
    {
      "cell_type": "code",
      "source": [
        "##Tanh implementation using basic example\n",
        "\n",
        "\n",
        "# inputs x1,x2\n",
        "x1 = Value(2.0, label='x1')\n",
        "x2 = Value(0.0, label='x2')\n",
        "# weights w1,w2\n",
        "w1 = Value(-3.0, label='w1')\n",
        "w2 = Value(1.0, label='w2')\n",
        "# bias of the neuron\n",
        "b = Value(6.8813735870195432, label='b')\n",
        "# x1*w1 + x2*w2 + b\n",
        "x1w1 = x1*w1; x1w1.label = 'x1*w1'\n",
        "x2w2 = x2*w2; x2w2.label = 'x2*w2'\n",
        "x1w1x2w2 = x1w1 + x2w2; x1w1x2w2.label = 'x1*w1 + x2*w2'\n",
        "n = x1w1x2w2 + b; n.label = 'n'\n",
        "o = n.tanh(); o.label = 'o'\n",
        "o.backward()\n",
        "draw_dot(o)"
      ],
      "metadata": {
        "id": "Q5WDCa08hiJx",
        "colab": {
          "base_uri": "https://localhost:8080/",
          "height": 321
        },
        "outputId": "c2b10aa7-86ce-4615-f950-1509fbbb4198"
      },
      "execution_count": 20,
      "outputs": [
        {
          "output_type": "execute_result",
          "data": {
            "image/svg+xml": "<?xml version=\"1.0\" encoding=\"UTF-8\" standalone=\"no\"?>\n<!DOCTYPE svg PUBLIC \"-//W3C//DTD SVG 1.1//EN\"\n \"http://www.w3.org/Graphics/SVG/1.1/DTD/svg11.dtd\">\n<!-- Generated by graphviz version 2.43.0 (0)\n -->\n<!-- Title: %3 Pages: 1 -->\n<svg width=\"1575pt\" height=\"210pt\"\n viewBox=\"0.00 0.00 1575.00 210.00\" xmlns=\"http://www.w3.org/2000/svg\" xmlns:xlink=\"http://www.w3.org/1999/xlink\">\n<g id=\"graph0\" class=\"graph\" transform=\"scale(1 1) rotate(0) translate(4 206)\">\n<title>%3</title>\n<polygon fill=\"white\" stroke=\"transparent\" points=\"-4,4 -4,-206 1571,-206 1571,4 -4,4\"/>\n<!-- 136179401454656 -->\n<g id=\"node1\" class=\"node\">\n<title>136179401454656</title>\n<polygon fill=\"none\" stroke=\"black\" points=\"716,-137.5 716,-173.5 901,-173.5 901,-137.5 716,-137.5\"/>\n<text text-anchor=\"middle\" x=\"727.5\" y=\"-151.8\" font-family=\"Times,serif\" font-size=\"14.00\">b</text>\n<polyline fill=\"none\" stroke=\"black\" points=\"739,-137.5 739,-173.5 \"/>\n<text text-anchor=\"middle\" x=\"779\" y=\"-151.8\" font-family=\"Times,serif\" font-size=\"14.00\">data 6.8814</text>\n<polyline fill=\"none\" stroke=\"black\" points=\"819,-137.5 819,-173.5 \"/>\n<text text-anchor=\"middle\" x=\"860\" y=\"-151.8\" font-family=\"Times,serif\" font-size=\"14.00\">grad 0.5000</text>\n</g>\n<!-- 136179401457008+ -->\n<g id=\"node12\" class=\"node\">\n<title>136179401457008+</title>\n<ellipse fill=\"none\" stroke=\"black\" cx=\"1008\" cy=\"-127.5\" rx=\"27\" ry=\"18\"/>\n<text text-anchor=\"middle\" x=\"1008\" y=\"-123.8\" font-family=\"Times,serif\" font-size=\"14.00\">+</text>\n</g>\n<!-- 136179401454656&#45;&gt;136179401457008+ -->\n<g id=\"edge14\" class=\"edge\">\n<title>136179401454656&#45;&gt;136179401457008+</title>\n<path fill=\"none\" stroke=\"black\" d=\"M901.02,-142.52C926,-138.98 951.59,-135.36 971.37,-132.55\"/>\n<polygon fill=\"black\" stroke=\"black\" points=\"972.03,-135.99 981.43,-131.12 971.04,-129.06 972.03,-135.99\"/>\n</g>\n<!-- 136179401456720 -->\n<g id=\"node2\" class=\"node\">\n<title>136179401456720</title>\n<polygon fill=\"none\" stroke=\"black\" points=\"328.5,-110.5 328.5,-146.5 543.5,-146.5 543.5,-110.5 328.5,-110.5\"/>\n<text text-anchor=\"middle\" x=\"355\" y=\"-124.8\" font-family=\"Times,serif\" font-size=\"14.00\">x2*w2</text>\n<polyline fill=\"none\" stroke=\"black\" points=\"381.5,-110.5 381.5,-146.5 \"/>\n<text text-anchor=\"middle\" x=\"421.5\" y=\"-124.8\" font-family=\"Times,serif\" font-size=\"14.00\">data 0.0000</text>\n<polyline fill=\"none\" stroke=\"black\" points=\"461.5,-110.5 461.5,-146.5 \"/>\n<text text-anchor=\"middle\" x=\"502.5\" y=\"-124.8\" font-family=\"Times,serif\" font-size=\"14.00\">grad 0.5000</text>\n</g>\n<!-- 136179401456960+ -->\n<g id=\"node9\" class=\"node\">\n<title>136179401456960+</title>\n<ellipse fill=\"none\" stroke=\"black\" cx=\"609\" cy=\"-100.5\" rx=\"27\" ry=\"18\"/>\n<text text-anchor=\"middle\" x=\"609\" y=\"-96.8\" font-family=\"Times,serif\" font-size=\"14.00\">+</text>\n</g>\n<!-- 136179401456720&#45;&gt;136179401456960+ -->\n<g id=\"edge6\" class=\"edge\">\n<title>136179401456720&#45;&gt;136179401456960+</title>\n<path fill=\"none\" stroke=\"black\" d=\"M543.84,-111.01C554.01,-109.34 563.76,-107.74 572.44,-106.32\"/>\n<polygon fill=\"black\" stroke=\"black\" points=\"573.17,-109.75 582.47,-104.68 572.04,-102.84 573.17,-109.75\"/>\n</g>\n<!-- 136179401456720* -->\n<g id=\"node3\" class=\"node\">\n<title>136179401456720*</title>\n<ellipse fill=\"none\" stroke=\"black\" cx=\"263\" cy=\"-128.5\" rx=\"27\" ry=\"18\"/>\n<text text-anchor=\"middle\" x=\"263\" y=\"-124.8\" font-family=\"Times,serif\" font-size=\"14.00\">*</text>\n</g>\n<!-- 136179401456720*&#45;&gt;136179401456720 -->\n<g id=\"edge1\" class=\"edge\">\n<title>136179401456720*&#45;&gt;136179401456720</title>\n<path fill=\"none\" stroke=\"black\" d=\"M290.34,-128.5C298.51,-128.5 308.08,-128.5 318.36,-128.5\"/>\n<polygon fill=\"black\" stroke=\"black\" points=\"318.39,-132 328.39,-128.5 318.39,-125 318.39,-132\"/>\n</g>\n<!-- 136179401933936 -->\n<g id=\"node4\" class=\"node\">\n<title>136179401933936</title>\n<polygon fill=\"none\" stroke=\"black\" points=\"2.5,-165.5 2.5,-201.5 197.5,-201.5 197.5,-165.5 2.5,-165.5\"/>\n<text text-anchor=\"middle\" x=\"19\" y=\"-179.8\" font-family=\"Times,serif\" font-size=\"14.00\">w2</text>\n<polyline fill=\"none\" stroke=\"black\" points=\"35.5,-165.5 35.5,-201.5 \"/>\n<text text-anchor=\"middle\" x=\"75.5\" y=\"-179.8\" font-family=\"Times,serif\" font-size=\"14.00\">data 1.0000</text>\n<polyline fill=\"none\" stroke=\"black\" points=\"115.5,-165.5 115.5,-201.5 \"/>\n<text text-anchor=\"middle\" x=\"156.5\" y=\"-179.8\" font-family=\"Times,serif\" font-size=\"14.00\">grad 0.0000</text>\n</g>\n<!-- 136179401933936&#45;&gt;136179401456720* -->\n<g id=\"edge8\" class=\"edge\">\n<title>136179401933936&#45;&gt;136179401456720*</title>\n<path fill=\"none\" stroke=\"black\" d=\"M172.53,-165.44C181.84,-162.67 191.2,-159.67 200,-156.5 210.53,-152.71 221.75,-147.9 231.72,-143.33\"/>\n<polygon fill=\"black\" stroke=\"black\" points=\"233.25,-146.48 240.82,-139.07 230.28,-140.14 233.25,-146.48\"/>\n</g>\n<!-- 136179401456768 -->\n<g id=\"node5\" class=\"node\">\n<title>136179401456768</title>\n<polygon fill=\"none\" stroke=\"black\" points=\"326,-55.5 326,-91.5 546,-91.5 546,-55.5 326,-55.5\"/>\n<text text-anchor=\"middle\" x=\"352.5\" y=\"-69.8\" font-family=\"Times,serif\" font-size=\"14.00\">x1*w1</text>\n<polyline fill=\"none\" stroke=\"black\" points=\"379,-55.5 379,-91.5 \"/>\n<text text-anchor=\"middle\" x=\"421.5\" y=\"-69.8\" font-family=\"Times,serif\" font-size=\"14.00\">data &#45;6.0000</text>\n<polyline fill=\"none\" stroke=\"black\" points=\"464,-55.5 464,-91.5 \"/>\n<text text-anchor=\"middle\" x=\"505\" y=\"-69.8\" font-family=\"Times,serif\" font-size=\"14.00\">grad 0.5000</text>\n</g>\n<!-- 136179401456768&#45;&gt;136179401456960+ -->\n<g id=\"edge10\" class=\"edge\">\n<title>136179401456768&#45;&gt;136179401456960+</title>\n<path fill=\"none\" stroke=\"black\" d=\"M546.27,-90.75C555.64,-92.23 564.6,-93.65 572.65,-94.92\"/>\n<polygon fill=\"black\" stroke=\"black\" points=\"572.23,-98.4 582.65,-96.5 573.32,-91.48 572.23,-98.4\"/>\n</g>\n<!-- 136179401456768* -->\n<g id=\"node6\" class=\"node\">\n<title>136179401456768*</title>\n<ellipse fill=\"none\" stroke=\"black\" cx=\"263\" cy=\"-73.5\" rx=\"27\" ry=\"18\"/>\n<text text-anchor=\"middle\" x=\"263\" y=\"-69.8\" font-family=\"Times,serif\" font-size=\"14.00\">*</text>\n</g>\n<!-- 136179401456768*&#45;&gt;136179401456768 -->\n<g id=\"edge2\" class=\"edge\">\n<title>136179401456768*&#45;&gt;136179401456768</title>\n<path fill=\"none\" stroke=\"black\" d=\"M290.34,-73.5C297.77,-73.5 306.37,-73.5 315.6,-73.5\"/>\n<polygon fill=\"black\" stroke=\"black\" points=\"315.84,-77 325.84,-73.5 315.84,-70 315.84,-77\"/>\n</g>\n<!-- 136179419079808 -->\n<g id=\"node7\" class=\"node\">\n<title>136179419079808</title>\n<polygon fill=\"none\" stroke=\"black\" points=\"0,-55.5 0,-91.5 200,-91.5 200,-55.5 0,-55.5\"/>\n<text text-anchor=\"middle\" x=\"16.5\" y=\"-69.8\" font-family=\"Times,serif\" font-size=\"14.00\">w1</text>\n<polyline fill=\"none\" stroke=\"black\" points=\"33,-55.5 33,-91.5 \"/>\n<text text-anchor=\"middle\" x=\"75.5\" y=\"-69.8\" font-family=\"Times,serif\" font-size=\"14.00\">data &#45;3.0000</text>\n<polyline fill=\"none\" stroke=\"black\" points=\"118,-55.5 118,-91.5 \"/>\n<text text-anchor=\"middle\" x=\"159\" y=\"-69.8\" font-family=\"Times,serif\" font-size=\"14.00\">grad 1.0000</text>\n</g>\n<!-- 136179419079808&#45;&gt;136179401456768* -->\n<g id=\"edge9\" class=\"edge\">\n<title>136179419079808&#45;&gt;136179401456768*</title>\n<path fill=\"none\" stroke=\"black\" d=\"M200.21,-73.5C209.2,-73.5 217.86,-73.5 225.7,-73.5\"/>\n<polygon fill=\"black\" stroke=\"black\" points=\"225.85,-77 235.85,-73.5 225.85,-70 225.85,-77\"/>\n</g>\n<!-- 136179401456960 -->\n<g id=\"node8\" class=\"node\">\n<title>136179401456960</title>\n<polygon fill=\"none\" stroke=\"black\" points=\"672,-82.5 672,-118.5 945,-118.5 945,-82.5 672,-82.5\"/>\n<text text-anchor=\"middle\" x=\"725\" y=\"-96.8\" font-family=\"Times,serif\" font-size=\"14.00\">x1*w1 + x2*w2</text>\n<polyline fill=\"none\" stroke=\"black\" points=\"778,-82.5 778,-118.5 \"/>\n<text text-anchor=\"middle\" x=\"820.5\" y=\"-96.8\" font-family=\"Times,serif\" font-size=\"14.00\">data &#45;6.0000</text>\n<polyline fill=\"none\" stroke=\"black\" points=\"863,-82.5 863,-118.5 \"/>\n<text text-anchor=\"middle\" x=\"904\" y=\"-96.8\" font-family=\"Times,serif\" font-size=\"14.00\">grad 0.5000</text>\n</g>\n<!-- 136179401456960&#45;&gt;136179401457008+ -->\n<g id=\"edge11\" class=\"edge\">\n<title>136179401456960&#45;&gt;136179401457008+</title>\n<path fill=\"none\" stroke=\"black\" d=\"M941.24,-118.51C952.12,-120 962.4,-121.4 971.45,-122.64\"/>\n<polygon fill=\"black\" stroke=\"black\" points=\"971.11,-126.13 981.49,-124.01 972.05,-119.19 971.11,-126.13\"/>\n</g>\n<!-- 136179401456960+&#45;&gt;136179401456960 -->\n<g id=\"edge3\" class=\"edge\">\n<title>136179401456960+&#45;&gt;136179401456960</title>\n<path fill=\"none\" stroke=\"black\" d=\"M636.23,-100.5C643.7,-100.5 652.41,-100.5 661.87,-100.5\"/>\n<polygon fill=\"black\" stroke=\"black\" points=\"661.98,-104 671.98,-100.5 661.98,-97 661.98,-104\"/>\n</g>\n<!-- 136179402185552 -->\n<g id=\"node10\" class=\"node\">\n<title>136179402185552</title>\n<polygon fill=\"none\" stroke=\"black\" points=\"2,-0.5 2,-36.5 198,-36.5 198,-0.5 2,-0.5\"/>\n<text text-anchor=\"middle\" x=\"17\" y=\"-14.8\" font-family=\"Times,serif\" font-size=\"14.00\">x1</text>\n<polyline fill=\"none\" stroke=\"black\" points=\"32,-0.5 32,-36.5 \"/>\n<text text-anchor=\"middle\" x=\"72\" y=\"-14.8\" font-family=\"Times,serif\" font-size=\"14.00\">data 2.0000</text>\n<polyline fill=\"none\" stroke=\"black\" points=\"112,-0.5 112,-36.5 \"/>\n<text text-anchor=\"middle\" x=\"155\" y=\"-14.8\" font-family=\"Times,serif\" font-size=\"14.00\">grad &#45;1.5000</text>\n</g>\n<!-- 136179402185552&#45;&gt;136179401456768* -->\n<g id=\"edge7\" class=\"edge\">\n<title>136179402185552&#45;&gt;136179401456768*</title>\n<path fill=\"none\" stroke=\"black\" d=\"M169.28,-36.5C179.65,-39.61 190.16,-42.98 200,-46.5 210.28,-50.17 221.28,-54.74 231.11,-59.07\"/>\n<polygon fill=\"black\" stroke=\"black\" points=\"229.93,-62.37 240.48,-63.27 232.79,-55.99 229.93,-62.37\"/>\n</g>\n<!-- 136179401457008 -->\n<g id=\"node11\" class=\"node\">\n<title>136179401457008</title>\n<polygon fill=\"none\" stroke=\"black\" points=\"1071,-109.5 1071,-145.5 1256,-145.5 1256,-109.5 1071,-109.5\"/>\n<text text-anchor=\"middle\" x=\"1082.5\" y=\"-123.8\" font-family=\"Times,serif\" font-size=\"14.00\">n</text>\n<polyline fill=\"none\" stroke=\"black\" points=\"1094,-109.5 1094,-145.5 \"/>\n<text text-anchor=\"middle\" x=\"1134\" y=\"-123.8\" font-family=\"Times,serif\" font-size=\"14.00\">data 0.8814</text>\n<polyline fill=\"none\" stroke=\"black\" points=\"1174,-109.5 1174,-145.5 \"/>\n<text text-anchor=\"middle\" x=\"1215\" y=\"-123.8\" font-family=\"Times,serif\" font-size=\"14.00\">grad 0.5000</text>\n</g>\n<!-- 136179401446880tanh -->\n<g id=\"node15\" class=\"node\">\n<title>136179401446880tanh</title>\n<ellipse fill=\"none\" stroke=\"black\" cx=\"1319\" cy=\"-127.5\" rx=\"27\" ry=\"18\"/>\n<text text-anchor=\"middle\" x=\"1319\" y=\"-123.8\" font-family=\"Times,serif\" font-size=\"14.00\">tanh</text>\n</g>\n<!-- 136179401457008&#45;&gt;136179401446880tanh -->\n<g id=\"edge13\" class=\"edge\">\n<title>136179401457008&#45;&gt;136179401446880tanh</title>\n<path fill=\"none\" stroke=\"black\" d=\"M1256.01,-127.5C1265.01,-127.5 1273.74,-127.5 1281.66,-127.5\"/>\n<polygon fill=\"black\" stroke=\"black\" points=\"1281.91,-131 1291.91,-127.5 1281.91,-124 1281.91,-131\"/>\n</g>\n<!-- 136179401457008+&#45;&gt;136179401457008 -->\n<g id=\"edge4\" class=\"edge\">\n<title>136179401457008+&#45;&gt;136179401457008</title>\n<path fill=\"none\" stroke=\"black\" d=\"M1035.04,-127.5C1042.58,-127.5 1051.3,-127.5 1060.57,-127.5\"/>\n<polygon fill=\"black\" stroke=\"black\" points=\"1060.81,-131 1070.81,-127.5 1060.81,-124 1060.81,-131\"/>\n</g>\n<!-- 136179419079568 -->\n<g id=\"node13\" class=\"node\">\n<title>136179419079568</title>\n<polygon fill=\"none\" stroke=\"black\" points=\"4,-110.5 4,-146.5 196,-146.5 196,-110.5 4,-110.5\"/>\n<text text-anchor=\"middle\" x=\"19\" y=\"-124.8\" font-family=\"Times,serif\" font-size=\"14.00\">x2</text>\n<polyline fill=\"none\" stroke=\"black\" points=\"34,-110.5 34,-146.5 \"/>\n<text text-anchor=\"middle\" x=\"74\" y=\"-124.8\" font-family=\"Times,serif\" font-size=\"14.00\">data 0.0000</text>\n<polyline fill=\"none\" stroke=\"black\" points=\"114,-110.5 114,-146.5 \"/>\n<text text-anchor=\"middle\" x=\"155\" y=\"-124.8\" font-family=\"Times,serif\" font-size=\"14.00\">grad 0.5000</text>\n</g>\n<!-- 136179419079568&#45;&gt;136179401456720* -->\n<g id=\"edge12\" class=\"edge\">\n<title>136179419079568&#45;&gt;136179401456720*</title>\n<path fill=\"none\" stroke=\"black\" d=\"M196.05,-128.5C206.52,-128.5 216.65,-128.5 225.71,-128.5\"/>\n<polygon fill=\"black\" stroke=\"black\" points=\"225.79,-132 235.79,-128.5 225.79,-125 225.79,-132\"/>\n</g>\n<!-- 136179401446880 -->\n<g id=\"node14\" class=\"node\">\n<title>136179401446880</title>\n<polygon fill=\"none\" stroke=\"black\" points=\"1382,-109.5 1382,-145.5 1567,-145.5 1567,-109.5 1382,-109.5\"/>\n<text text-anchor=\"middle\" x=\"1393.5\" y=\"-123.8\" font-family=\"Times,serif\" font-size=\"14.00\">o</text>\n<polyline fill=\"none\" stroke=\"black\" points=\"1405,-109.5 1405,-145.5 \"/>\n<text text-anchor=\"middle\" x=\"1445\" y=\"-123.8\" font-family=\"Times,serif\" font-size=\"14.00\">data 0.7071</text>\n<polyline fill=\"none\" stroke=\"black\" points=\"1485,-109.5 1485,-145.5 \"/>\n<text text-anchor=\"middle\" x=\"1526\" y=\"-123.8\" font-family=\"Times,serif\" font-size=\"14.00\">grad 1.0000</text>\n</g>\n<!-- 136179401446880tanh&#45;&gt;136179401446880 -->\n<g id=\"edge5\" class=\"edge\">\n<title>136179401446880tanh&#45;&gt;136179401446880</title>\n<path fill=\"none\" stroke=\"black\" d=\"M1346.04,-127.5C1353.58,-127.5 1362.3,-127.5 1371.57,-127.5\"/>\n<polygon fill=\"black\" stroke=\"black\" points=\"1371.81,-131 1381.81,-127.5 1371.81,-124 1371.81,-131\"/>\n</g>\n</g>\n</svg>\n",
            "text/plain": [
              "<graphviz.graphs.Digraph at 0x7bdabcd97350>"
            ]
          },
          "metadata": {},
          "execution_count": 20
        }
      ]
    },
    {
      "cell_type": "code",
      "source": [
        "#Tanh implementation without using tanh function (elaborate formula)\n",
        "\n",
        "# inputs x1,x2\n",
        "x1 = Value(2.0, label='x1')\n",
        "x2 = Value(0.0, label='x2')\n",
        "# weights w1,w2\n",
        "w1 = Value(-3.0, label='w1')\n",
        "w2 = Value(1.0, label='w2')\n",
        "# bias of the neuron\n",
        "b = Value(6.8813735870195432, label='b')\n",
        "# x1*w1 + x2*w2 + b\n",
        "x1w1 = x1*w1; x1w1.label = 'x1*w1'\n",
        "x2w2 = x2*w2; x2w2.label = 'x2*w2'\n",
        "x1w1x2w2 = x1w1 + x2w2; x1w1x2w2.label = 'x1*w1 + x2*w2'\n",
        "n = x1w1x2w2 + b; n.label = 'n'\n",
        "\n",
        "#----- Formula ----\n",
        "e = (2*n).exp()\n",
        "o = (e-1)/(e+1)\n",
        "\n",
        "o.label = 'o'\n",
        "o.backward()\n",
        "draw_dot(o)"
      ],
      "metadata": {
        "colab": {
          "base_uri": "https://localhost:8080/",
          "height": 356
        },
        "id": "3CPfOoOAf5Af",
        "outputId": "7bc5cdaf-899e-483d-8d3c-e7ff01061d75"
      },
      "execution_count": 21,
      "outputs": [
        {
          "output_type": "execute_result",
          "data": {
            "image/svg+xml": "<?xml version=\"1.0\" encoding=\"UTF-8\" standalone=\"no\"?>\n<!DOCTYPE svg PUBLIC \"-//W3C//DTD SVG 1.1//EN\"\n \"http://www.w3.org/Graphics/SVG/1.1/DTD/svg11.dtd\">\n<!-- Generated by graphviz version 2.43.0 (0)\n -->\n<!-- Title: %3 Pages: 1 -->\n<svg width=\"2944pt\" height=\"236pt\"\n viewBox=\"0.00 0.00 2944.00 236.00\" xmlns=\"http://www.w3.org/2000/svg\" xmlns:xlink=\"http://www.w3.org/1999/xlink\">\n<g id=\"graph0\" class=\"graph\" transform=\"scale(1 1) rotate(0) translate(4 232)\">\n<title>%3</title>\n<polygon fill=\"white\" stroke=\"transparent\" points=\"-4,4 -4,-232 2940,-232 2940,4 -4,4\"/>\n<!-- 136179402147840 -->\n<g id=\"node1\" class=\"node\">\n<title>136179402147840</title>\n<polygon fill=\"none\" stroke=\"black\" points=\"1382,-136.5 1382,-172.5 1564,-172.5 1564,-136.5 1382,-136.5\"/>\n<text text-anchor=\"middle\" x=\"1392\" y=\"-150.8\" font-family=\"Times,serif\" font-size=\"14.00\"> </text>\n<polyline fill=\"none\" stroke=\"black\" points=\"1402,-136.5 1402,-172.5 \"/>\n<text text-anchor=\"middle\" x=\"1442\" y=\"-150.8\" font-family=\"Times,serif\" font-size=\"14.00\">data 1.7627</text>\n<polyline fill=\"none\" stroke=\"black\" points=\"1482,-136.5 1482,-172.5 \"/>\n<text text-anchor=\"middle\" x=\"1523\" y=\"-150.8\" font-family=\"Times,serif\" font-size=\"14.00\">grad 0.2500</text>\n</g>\n<!-- 136179402147984exp -->\n<g id=\"node9\" class=\"node\">\n<title>136179402147984exp</title>\n<ellipse fill=\"none\" stroke=\"black\" cx=\"1627\" cy=\"-154.5\" rx=\"27\" ry=\"18\"/>\n<text text-anchor=\"middle\" x=\"1627\" y=\"-150.8\" font-family=\"Times,serif\" font-size=\"14.00\">exp</text>\n</g>\n<!-- 136179402147840&#45;&gt;136179402147984exp -->\n<g id=\"edge20\" class=\"edge\">\n<title>136179402147840&#45;&gt;136179402147984exp</title>\n<path fill=\"none\" stroke=\"black\" d=\"M1564.18,-154.5C1573.14,-154.5 1581.83,-154.5 1589.73,-154.5\"/>\n<polygon fill=\"black\" stroke=\"black\" points=\"1589.96,-158 1599.96,-154.5 1589.96,-151 1589.96,-158\"/>\n</g>\n<!-- 136179402147840* -->\n<g id=\"node2\" class=\"node\">\n<title>136179402147840*</title>\n<ellipse fill=\"none\" stroke=\"black\" cx=\"1319\" cy=\"-154.5\" rx=\"27\" ry=\"18\"/>\n<text text-anchor=\"middle\" x=\"1319\" y=\"-150.8\" font-family=\"Times,serif\" font-size=\"14.00\">*</text>\n</g>\n<!-- 136179402147840*&#45;&gt;136179402147840 -->\n<g id=\"edge1\" class=\"edge\">\n<title>136179402147840*&#45;&gt;136179402147840</title>\n<path fill=\"none\" stroke=\"black\" d=\"M1346.13,-154.5C1353.67,-154.5 1362.39,-154.5 1371.64,-154.5\"/>\n<polygon fill=\"black\" stroke=\"black\" points=\"1371.87,-158 1381.87,-154.5 1371.87,-151 1371.87,-158\"/>\n</g>\n<!-- 136179402148896 -->\n<g id=\"node3\" class=\"node\">\n<title>136179402148896</title>\n<polygon fill=\"none\" stroke=\"black\" points=\"2003,-108.5 2003,-144.5 2189,-144.5 2189,-108.5 2003,-108.5\"/>\n<text text-anchor=\"middle\" x=\"2013\" y=\"-122.8\" font-family=\"Times,serif\" font-size=\"14.00\"> </text>\n<polyline fill=\"none\" stroke=\"black\" points=\"2023,-108.5 2023,-144.5 \"/>\n<text text-anchor=\"middle\" x=\"2063\" y=\"-122.8\" font-family=\"Times,serif\" font-size=\"14.00\">data 6.8284</text>\n<polyline fill=\"none\" stroke=\"black\" points=\"2103,-108.5 2103,-144.5 \"/>\n<text text-anchor=\"middle\" x=\"2146\" y=\"-122.8\" font-family=\"Times,serif\" font-size=\"14.00\">grad &#45;0.1036</text>\n</g>\n<!-- 136179402147696**&#45;1 -->\n<g id=\"node18\" class=\"node\">\n<title>136179402147696**&#45;1</title>\n<ellipse fill=\"none\" stroke=\"black\" cx=\"2316\" cy=\"-126.5\" rx=\"27\" ry=\"18\"/>\n<text text-anchor=\"middle\" x=\"2316\" y=\"-122.8\" font-family=\"Times,serif\" font-size=\"14.00\">**&#45;1</text>\n</g>\n<!-- 136179402148896&#45;&gt;136179402147696**&#45;1 -->\n<g id=\"edge12\" class=\"edge\">\n<title>136179402148896&#45;&gt;136179402147696**&#45;1</title>\n<path fill=\"none\" stroke=\"black\" d=\"M2189.14,-126.5C2220.72,-126.5 2254.24,-126.5 2278.74,-126.5\"/>\n<polygon fill=\"black\" stroke=\"black\" points=\"2278.98,-130 2288.98,-126.5 2278.98,-123 2278.98,-130\"/>\n</g>\n<!-- 136179402148896+ -->\n<g id=\"node4\" class=\"node\">\n<title>136179402148896+</title>\n<ellipse fill=\"none\" stroke=\"black\" cx=\"1940\" cy=\"-126.5\" rx=\"27\" ry=\"18\"/>\n<text text-anchor=\"middle\" x=\"1940\" y=\"-122.8\" font-family=\"Times,serif\" font-size=\"14.00\">+</text>\n</g>\n<!-- 136179402148896+&#45;&gt;136179402148896 -->\n<g id=\"edge2\" class=\"edge\">\n<title>136179402148896+&#45;&gt;136179402148896</title>\n<path fill=\"none\" stroke=\"black\" d=\"M1967.12,-126.5C1974.62,-126.5 1983.29,-126.5 1992.5,-126.5\"/>\n<polygon fill=\"black\" stroke=\"black\" points=\"1992.69,-130 2002.69,-126.5 1992.69,-123 1992.69,-130\"/>\n</g>\n<!-- 136179401572768 -->\n<g id=\"node5\" class=\"node\">\n<title>136179401572768</title>\n<polygon fill=\"none\" stroke=\"black\" points=\"4,-55.5 4,-91.5 196,-91.5 196,-55.5 4,-55.5\"/>\n<text text-anchor=\"middle\" x=\"19\" y=\"-69.8\" font-family=\"Times,serif\" font-size=\"14.00\">x2</text>\n<polyline fill=\"none\" stroke=\"black\" points=\"34,-55.5 34,-91.5 \"/>\n<text text-anchor=\"middle\" x=\"74\" y=\"-69.8\" font-family=\"Times,serif\" font-size=\"14.00\">data 0.0000</text>\n<polyline fill=\"none\" stroke=\"black\" points=\"114,-55.5 114,-91.5 \"/>\n<text text-anchor=\"middle\" x=\"155\" y=\"-69.8\" font-family=\"Times,serif\" font-size=\"14.00\">grad 0.5000</text>\n</g>\n<!-- 136179401456048* -->\n<g id=\"node24\" class=\"node\">\n<title>136179401456048*</title>\n<ellipse fill=\"none\" stroke=\"black\" cx=\"263\" cy=\"-73.5\" rx=\"27\" ry=\"18\"/>\n<text text-anchor=\"middle\" x=\"263\" y=\"-69.8\" font-family=\"Times,serif\" font-size=\"14.00\">*</text>\n</g>\n<!-- 136179401572768&#45;&gt;136179401456048* -->\n<g id=\"edge18\" class=\"edge\">\n<title>136179401572768&#45;&gt;136179401456048*</title>\n<path fill=\"none\" stroke=\"black\" d=\"M196.05,-73.5C206.52,-73.5 216.65,-73.5 225.71,-73.5\"/>\n<polygon fill=\"black\" stroke=\"black\" points=\"225.79,-77 235.79,-73.5 225.79,-70 225.79,-77\"/>\n</g>\n<!-- 136179402148416 -->\n<g id=\"node6\" class=\"node\">\n<title>136179402148416</title>\n<polygon fill=\"none\" stroke=\"black\" points=\"2225,-163.5 2225,-199.5 2407,-199.5 2407,-163.5 2225,-163.5\"/>\n<text text-anchor=\"middle\" x=\"2235\" y=\"-177.8\" font-family=\"Times,serif\" font-size=\"14.00\"> </text>\n<polyline fill=\"none\" stroke=\"black\" points=\"2245,-163.5 2245,-199.5 \"/>\n<text text-anchor=\"middle\" x=\"2285\" y=\"-177.8\" font-family=\"Times,serif\" font-size=\"14.00\">data 4.8284</text>\n<polyline fill=\"none\" stroke=\"black\" points=\"2325,-163.5 2325,-199.5 \"/>\n<text text-anchor=\"middle\" x=\"2366\" y=\"-177.8\" font-family=\"Times,serif\" font-size=\"14.00\">grad 0.1464</text>\n</g>\n<!-- 136179402148800* -->\n<g id=\"node26\" class=\"node\">\n<title>136179402148800*</title>\n<ellipse fill=\"none\" stroke=\"black\" cx=\"2688\" cy=\"-153.5\" rx=\"27\" ry=\"18\"/>\n<text text-anchor=\"middle\" x=\"2688\" y=\"-149.8\" font-family=\"Times,serif\" font-size=\"14.00\">*</text>\n</g>\n<!-- 136179402148416&#45;&gt;136179402148800* -->\n<g id=\"edge15\" class=\"edge\">\n<title>136179402148416&#45;&gt;136179402148800*</title>\n<path fill=\"none\" stroke=\"black\" d=\"M2407.31,-174.9C2468.7,-170.37 2551.76,-164.19 2625,-158.5 2633.42,-157.85 2642.48,-157.13 2651.01,-156.44\"/>\n<polygon fill=\"black\" stroke=\"black\" points=\"2651.37,-159.92 2661.06,-155.63 2650.81,-152.94 2651.37,-159.92\"/>\n</g>\n<!-- 136179402148416+ -->\n<g id=\"node7\" class=\"node\">\n<title>136179402148416+</title>\n<ellipse fill=\"none\" stroke=\"black\" cx=\"1940\" cy=\"-181.5\" rx=\"27\" ry=\"18\"/>\n<text text-anchor=\"middle\" x=\"1940\" y=\"-177.8\" font-family=\"Times,serif\" font-size=\"14.00\">+</text>\n</g>\n<!-- 136179402148416+&#45;&gt;136179402148416 -->\n<g id=\"edge3\" class=\"edge\">\n<title>136179402148416+&#45;&gt;136179402148416</title>\n<path fill=\"none\" stroke=\"black\" d=\"M1967,-181.5C2017.46,-181.5 2131.06,-181.5 2214.81,-181.5\"/>\n<polygon fill=\"black\" stroke=\"black\" points=\"2214.87,-185 2224.87,-181.5 2214.87,-178 2214.87,-185\"/>\n</g>\n<!-- 136179402147984 -->\n<g id=\"node8\" class=\"node\">\n<title>136179402147984</title>\n<polygon fill=\"none\" stroke=\"black\" points=\"1692.5,-136.5 1692.5,-172.5 1874.5,-172.5 1874.5,-136.5 1692.5,-136.5\"/>\n<text text-anchor=\"middle\" x=\"1702.5\" y=\"-150.8\" font-family=\"Times,serif\" font-size=\"14.00\"> </text>\n<polyline fill=\"none\" stroke=\"black\" points=\"1712.5,-136.5 1712.5,-172.5 \"/>\n<text text-anchor=\"middle\" x=\"1752.5\" y=\"-150.8\" font-family=\"Times,serif\" font-size=\"14.00\">data 5.8284</text>\n<polyline fill=\"none\" stroke=\"black\" points=\"1792.5,-136.5 1792.5,-172.5 \"/>\n<text text-anchor=\"middle\" x=\"1833.5\" y=\"-150.8\" font-family=\"Times,serif\" font-size=\"14.00\">grad 0.0429</text>\n</g>\n<!-- 136179402147984&#45;&gt;136179402148896+ -->\n<g id=\"edge26\" class=\"edge\">\n<title>136179402147984&#45;&gt;136179402148896+</title>\n<path fill=\"none\" stroke=\"black\" d=\"M1874.82,-138.13C1885.07,-136.27 1895.01,-134.47 1903.88,-132.87\"/>\n<polygon fill=\"black\" stroke=\"black\" points=\"1904.54,-136.3 1913.75,-131.08 1903.29,-129.42 1904.54,-136.3\"/>\n</g>\n<!-- 136179402147984&#45;&gt;136179402148416+ -->\n<g id=\"edge11\" class=\"edge\">\n<title>136179402147984&#45;&gt;136179402148416+</title>\n<path fill=\"none\" stroke=\"black\" d=\"M1874.82,-170.28C1885.07,-172.08 1895.01,-173.81 1903.88,-175.36\"/>\n<polygon fill=\"black\" stroke=\"black\" points=\"1903.3,-178.81 1913.75,-177.09 1904.5,-171.92 1903.3,-178.81\"/>\n</g>\n<!-- 136179402147984exp&#45;&gt;136179402147984 -->\n<g id=\"edge4\" class=\"edge\">\n<title>136179402147984exp&#45;&gt;136179402147984</title>\n<path fill=\"none\" stroke=\"black\" d=\"M1654.21,-154.5C1662.34,-154.5 1671.85,-154.5 1681.94,-154.5\"/>\n<polygon fill=\"black\" stroke=\"black\" points=\"1682.19,-158 1692.19,-154.5 1682.19,-151 1682.19,-158\"/>\n</g>\n<!-- 136179401573008 -->\n<g id=\"node10\" class=\"node\">\n<title>136179401573008</title>\n<polygon fill=\"none\" stroke=\"black\" points=\"2,-165.5 2,-201.5 198,-201.5 198,-165.5 2,-165.5\"/>\n<text text-anchor=\"middle\" x=\"17\" y=\"-179.8\" font-family=\"Times,serif\" font-size=\"14.00\">x1</text>\n<polyline fill=\"none\" stroke=\"black\" points=\"32,-165.5 32,-201.5 \"/>\n<text text-anchor=\"middle\" x=\"72\" y=\"-179.8\" font-family=\"Times,serif\" font-size=\"14.00\">data 2.0000</text>\n<polyline fill=\"none\" stroke=\"black\" points=\"112,-165.5 112,-201.5 \"/>\n<text text-anchor=\"middle\" x=\"155\" y=\"-179.8\" font-family=\"Times,serif\" font-size=\"14.00\">grad &#45;1.5000</text>\n</g>\n<!-- 136179401456336* -->\n<g id=\"node13\" class=\"node\">\n<title>136179401456336*</title>\n<ellipse fill=\"none\" stroke=\"black\" cx=\"263\" cy=\"-128.5\" rx=\"27\" ry=\"18\"/>\n<text text-anchor=\"middle\" x=\"263\" y=\"-124.8\" font-family=\"Times,serif\" font-size=\"14.00\">*</text>\n</g>\n<!-- 136179401573008&#45;&gt;136179401456336* -->\n<g id=\"edge24\" class=\"edge\">\n<title>136179401573008&#45;&gt;136179401456336*</title>\n<path fill=\"none\" stroke=\"black\" d=\"M172.53,-165.44C181.84,-162.67 191.2,-159.67 200,-156.5 210.53,-152.71 221.75,-147.9 231.72,-143.33\"/>\n<polygon fill=\"black\" stroke=\"black\" points=\"233.25,-146.48 240.82,-139.07 230.28,-140.14 233.25,-146.48\"/>\n</g>\n<!-- 136179402148272 -->\n<g id=\"node11\" class=\"node\">\n<title>136179402148272</title>\n<polygon fill=\"none\" stroke=\"black\" points=\"1690,-191.5 1690,-227.5 1877,-227.5 1877,-191.5 1690,-191.5\"/>\n<text text-anchor=\"middle\" x=\"1700\" y=\"-205.8\" font-family=\"Times,serif\" font-size=\"14.00\"> </text>\n<polyline fill=\"none\" stroke=\"black\" points=\"1710,-191.5 1710,-227.5 \"/>\n<text text-anchor=\"middle\" x=\"1752.5\" y=\"-205.8\" font-family=\"Times,serif\" font-size=\"14.00\">data &#45;1.0000</text>\n<polyline fill=\"none\" stroke=\"black\" points=\"1795,-191.5 1795,-227.5 \"/>\n<text text-anchor=\"middle\" x=\"1836\" y=\"-205.8\" font-family=\"Times,serif\" font-size=\"14.00\">grad 0.1464</text>\n</g>\n<!-- 136179402148272&#45;&gt;136179402148416+ -->\n<g id=\"edge28\" class=\"edge\">\n<title>136179402148272&#45;&gt;136179402148416+</title>\n<path fill=\"none\" stroke=\"black\" d=\"M1877.05,-192.73C1886.54,-191.01 1895.71,-189.35 1903.95,-187.85\"/>\n<polygon fill=\"black\" stroke=\"black\" points=\"1904.64,-191.28 1913.85,-186.06 1903.39,-184.4 1904.64,-191.28\"/>\n</g>\n<!-- 136179401456336 -->\n<g id=\"node12\" class=\"node\">\n<title>136179401456336</title>\n<polygon fill=\"none\" stroke=\"black\" points=\"326,-110.5 326,-146.5 546,-146.5 546,-110.5 326,-110.5\"/>\n<text text-anchor=\"middle\" x=\"352.5\" y=\"-124.8\" font-family=\"Times,serif\" font-size=\"14.00\">x1*w1</text>\n<polyline fill=\"none\" stroke=\"black\" points=\"379,-110.5 379,-146.5 \"/>\n<text text-anchor=\"middle\" x=\"421.5\" y=\"-124.8\" font-family=\"Times,serif\" font-size=\"14.00\">data &#45;6.0000</text>\n<polyline fill=\"none\" stroke=\"black\" points=\"464,-110.5 464,-146.5 \"/>\n<text text-anchor=\"middle\" x=\"505\" y=\"-124.8\" font-family=\"Times,serif\" font-size=\"14.00\">grad 0.5000</text>\n</g>\n<!-- 136179402147744+ -->\n<g id=\"node22\" class=\"node\">\n<title>136179402147744+</title>\n<ellipse fill=\"none\" stroke=\"black\" cx=\"609\" cy=\"-100.5\" rx=\"27\" ry=\"18\"/>\n<text text-anchor=\"middle\" x=\"609\" y=\"-96.8\" font-family=\"Times,serif\" font-size=\"14.00\">+</text>\n</g>\n<!-- 136179401456336&#45;&gt;136179402147744+ -->\n<g id=\"edge13\" class=\"edge\">\n<title>136179401456336&#45;&gt;136179402147744+</title>\n<path fill=\"none\" stroke=\"black\" d=\"M546.27,-110.61C555.64,-109.07 564.6,-107.61 572.65,-106.29\"/>\n<polygon fill=\"black\" stroke=\"black\" points=\"573.35,-109.72 582.65,-104.65 572.22,-102.81 573.35,-109.72\"/>\n</g>\n<!-- 136179401456336*&#45;&gt;136179401456336 -->\n<g id=\"edge5\" class=\"edge\">\n<title>136179401456336*&#45;&gt;136179401456336</title>\n<path fill=\"none\" stroke=\"black\" d=\"M290.34,-128.5C297.77,-128.5 306.37,-128.5 315.6,-128.5\"/>\n<polygon fill=\"black\" stroke=\"black\" points=\"315.84,-132 325.84,-128.5 315.84,-125 315.84,-132\"/>\n</g>\n<!-- 136179419384048 -->\n<g id=\"node14\" class=\"node\">\n<title>136179419384048</title>\n<polygon fill=\"none\" stroke=\"black\" points=\"2.5,-0.5 2.5,-36.5 197.5,-36.5 197.5,-0.5 2.5,-0.5\"/>\n<text text-anchor=\"middle\" x=\"19\" y=\"-14.8\" font-family=\"Times,serif\" font-size=\"14.00\">w2</text>\n<polyline fill=\"none\" stroke=\"black\" points=\"35.5,-0.5 35.5,-36.5 \"/>\n<text text-anchor=\"middle\" x=\"75.5\" y=\"-14.8\" font-family=\"Times,serif\" font-size=\"14.00\">data 1.0000</text>\n<polyline fill=\"none\" stroke=\"black\" points=\"115.5,-0.5 115.5,-36.5 \"/>\n<text text-anchor=\"middle\" x=\"156.5\" y=\"-14.8\" font-family=\"Times,serif\" font-size=\"14.00\">grad 0.0000</text>\n</g>\n<!-- 136179419384048&#45;&gt;136179401456048* -->\n<g id=\"edge21\" class=\"edge\">\n<title>136179419384048&#45;&gt;136179401456048*</title>\n<path fill=\"none\" stroke=\"black\" d=\"M172.53,-36.56C181.84,-39.33 191.2,-42.33 200,-45.5 210.53,-49.29 221.75,-54.1 231.72,-58.67\"/>\n<polygon fill=\"black\" stroke=\"black\" points=\"230.28,-61.86 240.82,-62.93 233.25,-55.52 230.28,-61.86\"/>\n</g>\n<!-- 136179402146544 -->\n<g id=\"node15\" class=\"node\">\n<title>136179402146544</title>\n<polygon fill=\"none\" stroke=\"black\" points=\"1072.5,-164.5 1072.5,-200.5 1254.5,-200.5 1254.5,-164.5 1072.5,-164.5\"/>\n<text text-anchor=\"middle\" x=\"1082.5\" y=\"-178.8\" font-family=\"Times,serif\" font-size=\"14.00\"> </text>\n<polyline fill=\"none\" stroke=\"black\" points=\"1092.5,-164.5 1092.5,-200.5 \"/>\n<text text-anchor=\"middle\" x=\"1132.5\" y=\"-178.8\" font-family=\"Times,serif\" font-size=\"14.00\">data 2.0000</text>\n<polyline fill=\"none\" stroke=\"black\" points=\"1172.5,-164.5 1172.5,-200.5 \"/>\n<text text-anchor=\"middle\" x=\"1213.5\" y=\"-178.8\" font-family=\"Times,serif\" font-size=\"14.00\">grad 0.2203</text>\n</g>\n<!-- 136179402146544&#45;&gt;136179402147840* -->\n<g id=\"edge17\" class=\"edge\">\n<title>136179402146544&#45;&gt;136179402147840*</title>\n<path fill=\"none\" stroke=\"black\" d=\"M1254.68,-166.05C1264.61,-164.24 1274.23,-162.48 1282.84,-160.91\"/>\n<polygon fill=\"black\" stroke=\"black\" points=\"1283.6,-164.33 1292.81,-159.09 1282.35,-157.45 1283.6,-164.33\"/>\n</g>\n<!-- 136179401456480 -->\n<g id=\"node16\" class=\"node\">\n<title>136179401456480</title>\n<polygon fill=\"none\" stroke=\"black\" points=\"716,-137.5 716,-173.5 901,-173.5 901,-137.5 716,-137.5\"/>\n<text text-anchor=\"middle\" x=\"727.5\" y=\"-151.8\" font-family=\"Times,serif\" font-size=\"14.00\">b</text>\n<polyline fill=\"none\" stroke=\"black\" points=\"739,-137.5 739,-173.5 \"/>\n<text text-anchor=\"middle\" x=\"779\" y=\"-151.8\" font-family=\"Times,serif\" font-size=\"14.00\">data 6.8814</text>\n<polyline fill=\"none\" stroke=\"black\" points=\"819,-137.5 819,-173.5 \"/>\n<text text-anchor=\"middle\" x=\"860\" y=\"-151.8\" font-family=\"Times,serif\" font-size=\"14.00\">grad 0.5000</text>\n</g>\n<!-- 136179402148752+ -->\n<g id=\"node20\" class=\"node\">\n<title>136179402148752+</title>\n<ellipse fill=\"none\" stroke=\"black\" cx=\"1008\" cy=\"-127.5\" rx=\"27\" ry=\"18\"/>\n<text text-anchor=\"middle\" x=\"1008\" y=\"-123.8\" font-family=\"Times,serif\" font-size=\"14.00\">+</text>\n</g>\n<!-- 136179401456480&#45;&gt;136179402148752+ -->\n<g id=\"edge14\" class=\"edge\">\n<title>136179401456480&#45;&gt;136179402148752+</title>\n<path fill=\"none\" stroke=\"black\" d=\"M901.02,-142.52C926,-138.98 951.59,-135.36 971.37,-132.55\"/>\n<polygon fill=\"black\" stroke=\"black\" points=\"972.03,-135.99 981.43,-131.12 971.04,-129.06 972.03,-135.99\"/>\n</g>\n<!-- 136179402147696 -->\n<g id=\"node17\" class=\"node\">\n<title>136179402147696</title>\n<polygon fill=\"none\" stroke=\"black\" points=\"2443,-112.5 2443,-148.5 2625,-148.5 2625,-112.5 2443,-112.5\"/>\n<text text-anchor=\"middle\" x=\"2453\" y=\"-126.8\" font-family=\"Times,serif\" font-size=\"14.00\"> </text>\n<polyline fill=\"none\" stroke=\"black\" points=\"2463,-112.5 2463,-148.5 \"/>\n<text text-anchor=\"middle\" x=\"2503\" y=\"-126.8\" font-family=\"Times,serif\" font-size=\"14.00\">data 0.1464</text>\n<polyline fill=\"none\" stroke=\"black\" points=\"2543,-112.5 2543,-148.5 \"/>\n<text text-anchor=\"middle\" x=\"2584\" y=\"-126.8\" font-family=\"Times,serif\" font-size=\"14.00\">grad 4.8284</text>\n</g>\n<!-- 136179402147696&#45;&gt;136179402148800* -->\n<g id=\"edge19\" class=\"edge\">\n<title>136179402147696&#45;&gt;136179402148800*</title>\n<path fill=\"none\" stroke=\"black\" d=\"M2625.18,-144.15C2634.42,-145.54 2643.38,-146.9 2651.47,-148.12\"/>\n<polygon fill=\"black\" stroke=\"black\" points=\"2651.15,-151.61 2661.56,-149.65 2652.19,-144.69 2651.15,-151.61\"/>\n</g>\n<!-- 136179402147696**&#45;1&#45;&gt;136179402147696 -->\n<g id=\"edge6\" class=\"edge\">\n<title>136179402147696**&#45;1&#45;&gt;136179402147696</title>\n<path fill=\"none\" stroke=\"black\" d=\"M2343.05,-126.98C2365.53,-127.4 2399.48,-128.03 2432.5,-128.64\"/>\n<polygon fill=\"black\" stroke=\"black\" points=\"2432.64,-132.14 2442.7,-128.83 2432.77,-125.14 2432.64,-132.14\"/>\n</g>\n<!-- 136179402148752 -->\n<g id=\"node19\" class=\"node\">\n<title>136179402148752</title>\n<polygon fill=\"none\" stroke=\"black\" points=\"1071,-109.5 1071,-145.5 1256,-145.5 1256,-109.5 1071,-109.5\"/>\n<text text-anchor=\"middle\" x=\"1082.5\" y=\"-123.8\" font-family=\"Times,serif\" font-size=\"14.00\">n</text>\n<polyline fill=\"none\" stroke=\"black\" points=\"1094,-109.5 1094,-145.5 \"/>\n<text text-anchor=\"middle\" x=\"1134\" y=\"-123.8\" font-family=\"Times,serif\" font-size=\"14.00\">data 0.8814</text>\n<polyline fill=\"none\" stroke=\"black\" points=\"1174,-109.5 1174,-145.5 \"/>\n<text text-anchor=\"middle\" x=\"1215\" y=\"-123.8\" font-family=\"Times,serif\" font-size=\"14.00\">grad 0.5000</text>\n</g>\n<!-- 136179402148752&#45;&gt;136179402147840* -->\n<g id=\"edge16\" class=\"edge\">\n<title>136179402148752&#45;&gt;136179402147840*</title>\n<path fill=\"none\" stroke=\"black\" d=\"M1256.01,-143.6C1265.49,-145.26 1274.66,-146.88 1282.9,-148.33\"/>\n<polygon fill=\"black\" stroke=\"black\" points=\"1282.36,-151.78 1292.81,-150.07 1283.57,-144.89 1282.36,-151.78\"/>\n</g>\n<!-- 136179402148752+&#45;&gt;136179402148752 -->\n<g id=\"edge7\" class=\"edge\">\n<title>136179402148752+&#45;&gt;136179402148752</title>\n<path fill=\"none\" stroke=\"black\" d=\"M1035.04,-127.5C1042.58,-127.5 1051.3,-127.5 1060.57,-127.5\"/>\n<polygon fill=\"black\" stroke=\"black\" points=\"1060.81,-131 1070.81,-127.5 1060.81,-124 1060.81,-131\"/>\n</g>\n<!-- 136179402147744 -->\n<g id=\"node21\" class=\"node\">\n<title>136179402147744</title>\n<polygon fill=\"none\" stroke=\"black\" points=\"672,-82.5 672,-118.5 945,-118.5 945,-82.5 672,-82.5\"/>\n<text text-anchor=\"middle\" x=\"725\" y=\"-96.8\" font-family=\"Times,serif\" font-size=\"14.00\">x1*w1 + x2*w2</text>\n<polyline fill=\"none\" stroke=\"black\" points=\"778,-82.5 778,-118.5 \"/>\n<text text-anchor=\"middle\" x=\"820.5\" y=\"-96.8\" font-family=\"Times,serif\" font-size=\"14.00\">data &#45;6.0000</text>\n<polyline fill=\"none\" stroke=\"black\" points=\"863,-82.5 863,-118.5 \"/>\n<text text-anchor=\"middle\" x=\"904\" y=\"-96.8\" font-family=\"Times,serif\" font-size=\"14.00\">grad 0.5000</text>\n</g>\n<!-- 136179402147744&#45;&gt;136179402148752+ -->\n<g id=\"edge22\" class=\"edge\">\n<title>136179402147744&#45;&gt;136179402148752+</title>\n<path fill=\"none\" stroke=\"black\" d=\"M941.24,-118.51C952.12,-120 962.4,-121.4 971.45,-122.64\"/>\n<polygon fill=\"black\" stroke=\"black\" points=\"971.11,-126.13 981.49,-124.01 972.05,-119.19 971.11,-126.13\"/>\n</g>\n<!-- 136179402147744+&#45;&gt;136179402147744 -->\n<g id=\"edge8\" class=\"edge\">\n<title>136179402147744+&#45;&gt;136179402147744</title>\n<path fill=\"none\" stroke=\"black\" d=\"M636.23,-100.5C643.7,-100.5 652.41,-100.5 661.87,-100.5\"/>\n<polygon fill=\"black\" stroke=\"black\" points=\"661.98,-104 671.98,-100.5 661.98,-97 661.98,-104\"/>\n</g>\n<!-- 136179401456048 -->\n<g id=\"node23\" class=\"node\">\n<title>136179401456048</title>\n<polygon fill=\"none\" stroke=\"black\" points=\"328.5,-55.5 328.5,-91.5 543.5,-91.5 543.5,-55.5 328.5,-55.5\"/>\n<text text-anchor=\"middle\" x=\"355\" y=\"-69.8\" font-family=\"Times,serif\" font-size=\"14.00\">x2*w2</text>\n<polyline fill=\"none\" stroke=\"black\" points=\"381.5,-55.5 381.5,-91.5 \"/>\n<text text-anchor=\"middle\" x=\"421.5\" y=\"-69.8\" font-family=\"Times,serif\" font-size=\"14.00\">data 0.0000</text>\n<polyline fill=\"none\" stroke=\"black\" points=\"461.5,-55.5 461.5,-91.5 \"/>\n<text text-anchor=\"middle\" x=\"502.5\" y=\"-69.8\" font-family=\"Times,serif\" font-size=\"14.00\">grad 0.5000</text>\n</g>\n<!-- 136179401456048&#45;&gt;136179402147744+ -->\n<g id=\"edge23\" class=\"edge\">\n<title>136179401456048&#45;&gt;136179402147744+</title>\n<path fill=\"none\" stroke=\"black\" d=\"M543.84,-90.37C554.01,-91.98 563.76,-93.51 572.44,-94.89\"/>\n<polygon fill=\"black\" stroke=\"black\" points=\"572.05,-98.37 582.47,-96.47 573.14,-91.45 572.05,-98.37\"/>\n</g>\n<!-- 136179401456048*&#45;&gt;136179401456048 -->\n<g id=\"edge9\" class=\"edge\">\n<title>136179401456048*&#45;&gt;136179401456048</title>\n<path fill=\"none\" stroke=\"black\" d=\"M290.34,-73.5C298.51,-73.5 308.08,-73.5 318.36,-73.5\"/>\n<polygon fill=\"black\" stroke=\"black\" points=\"318.39,-77 328.39,-73.5 318.39,-70 318.39,-77\"/>\n</g>\n<!-- 136179402148800 -->\n<g id=\"node25\" class=\"node\">\n<title>136179402148800</title>\n<polygon fill=\"none\" stroke=\"black\" points=\"2751,-135.5 2751,-171.5 2936,-171.5 2936,-135.5 2751,-135.5\"/>\n<text text-anchor=\"middle\" x=\"2762.5\" y=\"-149.8\" font-family=\"Times,serif\" font-size=\"14.00\">o</text>\n<polyline fill=\"none\" stroke=\"black\" points=\"2774,-135.5 2774,-171.5 \"/>\n<text text-anchor=\"middle\" x=\"2814\" y=\"-149.8\" font-family=\"Times,serif\" font-size=\"14.00\">data 0.7071</text>\n<polyline fill=\"none\" stroke=\"black\" points=\"2854,-135.5 2854,-171.5 \"/>\n<text text-anchor=\"middle\" x=\"2895\" y=\"-149.8\" font-family=\"Times,serif\" font-size=\"14.00\">grad 1.0000</text>\n</g>\n<!-- 136179402148800*&#45;&gt;136179402148800 -->\n<g id=\"edge10\" class=\"edge\">\n<title>136179402148800*&#45;&gt;136179402148800</title>\n<path fill=\"none\" stroke=\"black\" d=\"M2715.04,-153.5C2722.58,-153.5 2731.3,-153.5 2740.57,-153.5\"/>\n<polygon fill=\"black\" stroke=\"black\" points=\"2740.81,-157 2750.81,-153.5 2740.81,-150 2740.81,-157\"/>\n</g>\n<!-- 136179419382224 -->\n<g id=\"node27\" class=\"node\">\n<title>136179419382224</title>\n<polygon fill=\"none\" stroke=\"black\" points=\"0,-110.5 0,-146.5 200,-146.5 200,-110.5 0,-110.5\"/>\n<text text-anchor=\"middle\" x=\"16.5\" y=\"-124.8\" font-family=\"Times,serif\" font-size=\"14.00\">w1</text>\n<polyline fill=\"none\" stroke=\"black\" points=\"33,-110.5 33,-146.5 \"/>\n<text text-anchor=\"middle\" x=\"75.5\" y=\"-124.8\" font-family=\"Times,serif\" font-size=\"14.00\">data &#45;3.0000</text>\n<polyline fill=\"none\" stroke=\"black\" points=\"118,-110.5 118,-146.5 \"/>\n<text text-anchor=\"middle\" x=\"159\" y=\"-124.8\" font-family=\"Times,serif\" font-size=\"14.00\">grad 1.0000</text>\n</g>\n<!-- 136179419382224&#45;&gt;136179401456336* -->\n<g id=\"edge25\" class=\"edge\">\n<title>136179419382224&#45;&gt;136179401456336*</title>\n<path fill=\"none\" stroke=\"black\" d=\"M200.21,-128.5C209.2,-128.5 217.86,-128.5 225.7,-128.5\"/>\n<polygon fill=\"black\" stroke=\"black\" points=\"225.85,-132 235.85,-128.5 225.85,-125 225.85,-132\"/>\n</g>\n<!-- 136179402148848 -->\n<g id=\"node28\" class=\"node\">\n<title>136179402148848</title>\n<polygon fill=\"none\" stroke=\"black\" points=\"1690.5,-81.5 1690.5,-117.5 1876.5,-117.5 1876.5,-81.5 1690.5,-81.5\"/>\n<text text-anchor=\"middle\" x=\"1700.5\" y=\"-95.8\" font-family=\"Times,serif\" font-size=\"14.00\"> </text>\n<polyline fill=\"none\" stroke=\"black\" points=\"1710.5,-81.5 1710.5,-117.5 \"/>\n<text text-anchor=\"middle\" x=\"1750.5\" y=\"-95.8\" font-family=\"Times,serif\" font-size=\"14.00\">data 1.0000</text>\n<polyline fill=\"none\" stroke=\"black\" points=\"1790.5,-81.5 1790.5,-117.5 \"/>\n<text text-anchor=\"middle\" x=\"1833.5\" y=\"-95.8\" font-family=\"Times,serif\" font-size=\"14.00\">grad &#45;0.1036</text>\n</g>\n<!-- 136179402148848&#45;&gt;136179402148896+ -->\n<g id=\"edge27\" class=\"edge\">\n<title>136179402148848&#45;&gt;136179402148896+</title>\n<path fill=\"none\" stroke=\"black\" d=\"M1876.6,-115.6C1886.15,-117.26 1895.37,-118.88 1903.68,-120.33\"/>\n<polygon fill=\"black\" stroke=\"black\" points=\"1903.2,-123.8 1913.65,-122.07 1904.4,-116.9 1903.2,-123.8\"/>\n</g>\n</g>\n</svg>\n",
            "text/plain": [
              "<graphviz.graphs.Digraph at 0x7bdabce41400>"
            ]
          },
          "metadata": {},
          "execution_count": 21
        }
      ]
    },
    {
      "cell_type": "markdown",
      "source": [
        "#Implementation of tanh using pytorch API - which is used in production"
      ],
      "metadata": {
        "id": "kMQ3ltpUijbm"
      }
    },
    {
      "cell_type": "markdown",
      "source": [
        "We usually give scalar values as numberical inputs to our previous scenarios. But here in Pytorch those are mostly about tensors.\n",
        "\n",
        "Tensors are n-dimensional array of scalars. So mostly we try to convert our input scalar to tensor ( a tensor with just a single element )"
      ],
      "metadata": {
        "id": "b-I0QCZg1tbD"
      }
    },
    {
      "cell_type": "code",
      "source": [
        "import torch"
      ],
      "metadata": {
        "id": "f5SiY4Z52ZWo"
      },
      "execution_count": 22,
      "outputs": []
    },
    {
      "cell_type": "code",
      "source": [
        "\n",
        "x1 = torch.Tensor([2.0]).double()                ; x1.requires_grad = True\n",
        "x2 = torch.Tensor([0.0]).double()                ; x2.requires_grad = True\n",
        "w1 = torch.Tensor([-3.0]).double()               ; w1.requires_grad = True\n",
        "w2 = torch.Tensor([1.0]).double()                ; w2.requires_grad = True\n",
        "b = torch.Tensor([6.8813735870195432]).double()  ; b.requires_grad = True\n",
        "n = x1*w1 + x2*w2 + b\n",
        "o = torch.tanh(n)\n",
        "\n",
        "print(o.data.item())\n",
        "o.backward()\n",
        "\n",
        "print('---')\n",
        "print('x2', x2.grad.item())\n",
        "print('w2', w2.grad.item())\n",
        "print('x1', x1.grad.item())\n",
        "print('w1', w1.grad.item())"
      ],
      "metadata": {
        "colab": {
          "base_uri": "https://localhost:8080/"
        },
        "id": "eRehhTrOii0B",
        "outputId": "f3738e2d-7068-4f2c-e6cd-b2d08f5be8e9"
      },
      "execution_count": 23,
      "outputs": [
        {
          "output_type": "stream",
          "name": "stdout",
          "text": [
            "0.7071066904050358\n",
            "---\n",
            "x2 0.5000001283844369\n",
            "w2 0.0\n",
            "x1 -1.5000003851533106\n",
            "w1 1.0000002567688737\n"
          ]
        }
      ]
    },
    {
      "cell_type": "code",
      "source": [
        "o"
      ],
      "metadata": {
        "colab": {
          "base_uri": "https://localhost:8080/"
        },
        "id": "OoQL3wbLOcdj",
        "outputId": "280fea89-2969-4f05-8bf4-d2b77bd3547d"
      },
      "execution_count": 24,
      "outputs": [
        {
          "output_type": "execute_result",
          "data": {
            "text/plain": [
              "tensor([0.7071], dtype=torch.float64, grad_fn=<TanhBackward0>)"
            ]
          },
          "metadata": {},
          "execution_count": 24
        }
      ]
    },
    {
      "cell_type": "code",
      "source": [
        "o.item()\n",
        "#o.data.item() -- Gives same result"
      ],
      "metadata": {
        "colab": {
          "base_uri": "https://localhost:8080/"
        },
        "id": "X-E0uzPiTP1Y",
        "outputId": "6be1d982-4aa1-40cd-da60-ac80e653239a"
      },
      "execution_count": 25,
      "outputs": [
        {
          "output_type": "execute_result",
          "data": {
            "text/plain": [
              "0.7071066904050358"
            ]
          },
          "metadata": {},
          "execution_count": 25
        }
      ]
    },
    {
      "cell_type": "markdown",
      "source": [
        "#Basic Tensor Functionalities"
      ],
      "metadata": {
        "id": "Vs2o4-RMQ2yD"
      }
    },
    {
      "cell_type": "code",
      "source": [
        " t = torch.Tensor([[1,2,3],[4,5,6]]) #Tensor matrix example\n",
        " t"
      ],
      "metadata": {
        "colab": {
          "base_uri": "https://localhost:8080/"
        },
        "id": "FkG7lxy0AL6-",
        "outputId": "2f92dade-8f00-46d1-dbce-006fb75ab215"
      },
      "execution_count": 26,
      "outputs": [
        {
          "output_type": "execute_result",
          "data": {
            "text/plain": [
              "tensor([[1., 2., 3.],\n",
              "        [4., 5., 6.]])"
            ]
          },
          "metadata": {},
          "execution_count": 26
        }
      ]
    },
    {
      "cell_type": "code",
      "source": [
        "np.array([[1,2,3],[4,5,6]]) #Similar to numpy array"
      ],
      "metadata": {
        "colab": {
          "base_uri": "https://localhost:8080/"
        },
        "id": "koCkxpdNOLgP",
        "outputId": "1bd03fd1-638d-44f6-fc35-64f07a8a816e"
      },
      "execution_count": 27,
      "outputs": [
        {
          "output_type": "execute_result",
          "data": {
            "text/plain": [
              "array([[1, 2, 3],\n",
              "       [4, 5, 6]])"
            ]
          },
          "metadata": {},
          "execution_count": 27
        }
      ]
    },
    {
      "cell_type": "code",
      "source": [
        "t.shape"
      ],
      "metadata": {
        "colab": {
          "base_uri": "https://localhost:8080/"
        },
        "id": "fmgT_anfOPaY",
        "outputId": "30f50e60-171c-4f93-bbd3-4175873631eb"
      },
      "execution_count": 28,
      "outputs": [
        {
          "output_type": "execute_result",
          "data": {
            "text/plain": [
              "torch.Size([2, 3])"
            ]
          },
          "metadata": {},
          "execution_count": 28
        }
      ]
    },
    {
      "cell_type": "code",
      "source": [
        "torch.randn(2,7)"
      ],
      "metadata": {
        "colab": {
          "base_uri": "https://localhost:8080/"
        },
        "id": "57KnDLX5RIzd",
        "outputId": "86b2bc9a-bf10-426a-8c55-878d6f6e6d0a"
      },
      "execution_count": 29,
      "outputs": [
        {
          "output_type": "execute_result",
          "data": {
            "text/plain": [
              "tensor([[-1.0894, -1.1428, -0.5271, -0.1255, -1.0813, -2.3294,  1.9080],\n",
              "        [-0.1780, -1.3655,  1.9394, -0.7739,  0.5427,  0.4738,  0.5893]])"
            ]
          },
          "metadata": {},
          "execution_count": 29
        }
      ]
    },
    {
      "cell_type": "code",
      "source": [
        "torch.zeros([2,3])"
      ],
      "metadata": {
        "colab": {
          "base_uri": "https://localhost:8080/"
        },
        "id": "R-Dmrk-9R3m3",
        "outputId": "6db493a4-4ad6-4cc2-b98c-03325bff0cf8"
      },
      "execution_count": 30,
      "outputs": [
        {
          "output_type": "execute_result",
          "data": {
            "text/plain": [
              "tensor([[0., 0., 0.],\n",
              "        [0., 0., 0.]])"
            ]
          },
          "metadata": {},
          "execution_count": 30
        }
      ]
    },
    {
      "cell_type": "code",
      "source": [
        "torch.ones([2,3])"
      ],
      "metadata": {
        "colab": {
          "base_uri": "https://localhost:8080/"
        },
        "id": "yJba4a9DR9kI",
        "outputId": "e576e79e-c20f-45b3-9b3b-5045c4fe78b3"
      },
      "execution_count": 31,
      "outputs": [
        {
          "output_type": "execute_result",
          "data": {
            "text/plain": [
              "tensor([[1., 1., 1.],\n",
              "        [1., 1., 1.]])"
            ]
          },
          "metadata": {},
          "execution_count": 31
        }
      ]
    },
    {
      "cell_type": "code",
      "source": [
        "t.mean()"
      ],
      "metadata": {
        "colab": {
          "base_uri": "https://localhost:8080/"
        },
        "id": "Uci4nyQCSDda",
        "outputId": "9df5ec34-f0a1-4d86-bb5f-28a5e30940b5"
      },
      "execution_count": 32,
      "outputs": [
        {
          "output_type": "execute_result",
          "data": {
            "text/plain": [
              "tensor(3.5000)"
            ]
          },
          "metadata": {},
          "execution_count": 32
        }
      ]
    },
    {
      "cell_type": "code",
      "source": [
        "t.max()"
      ],
      "metadata": {
        "colab": {
          "base_uri": "https://localhost:8080/"
        },
        "id": "U4966mxHSFXx",
        "outputId": "1032b3c2-80d9-4e7c-8047-733c3e1a2e9c"
      },
      "execution_count": 33,
      "outputs": [
        {
          "output_type": "execute_result",
          "data": {
            "text/plain": [
              "tensor(6.)"
            ]
          },
          "metadata": {},
          "execution_count": 33
        }
      ]
    },
    {
      "cell_type": "code",
      "source": [
        "t.sum()"
      ],
      "metadata": {
        "colab": {
          "base_uri": "https://localhost:8080/"
        },
        "id": "ft6JqD5QSGpk",
        "outputId": "d75cd1e9-f28c-4175-e3b6-88d801f81c88"
      },
      "execution_count": 34,
      "outputs": [
        {
          "output_type": "execute_result",
          "data": {
            "text/plain": [
              "tensor(21.)"
            ]
          },
          "metadata": {},
          "execution_count": 34
        }
      ]
    },
    {
      "cell_type": "code",
      "source": [
        "type(t)"
      ],
      "metadata": {
        "colab": {
          "base_uri": "https://localhost:8080/"
        },
        "id": "C1V-J0YFSNI8",
        "outputId": "1c675c5d-03a4-47e7-c2ef-8068f32ce26a"
      },
      "execution_count": 35,
      "outputs": [
        {
          "output_type": "execute_result",
          "data": {
            "text/plain": [
              "torch.Tensor"
            ]
          },
          "metadata": {},
          "execution_count": 35
        }
      ]
    },
    {
      "cell_type": "markdown",
      "source": [
        "#Building neural net library (multi-layer perceptron) in micrograd"
      ],
      "metadata": {
        "id": "Mxab7GJVVGw9"
      }
    },
    {
      "cell_type": "code",
      "source": [
        "import random"
      ],
      "metadata": {
        "id": "7i4XFzd_Y4nC"
      },
      "execution_count": 36,
      "outputs": []
    },
    {
      "cell_type": "code",
      "source": [
        "#We are now trying to build 2 layer perceptron\n",
        "\n",
        "class Neuron:\n",
        "\n",
        "  def __init__(self, nin): #nin - how many inputs\n",
        "    self.w = [Value(random.uniform(-1,1)) for _ in range(nin)] #generates random numbers and set them as 'weights'\n",
        "    self.b = Value(random.uniform(-1,1)) #generated random number and set it as 'bias' that controls the overall trigger happiness of this neuron\n",
        "\n",
        "  def __call__(self, x):\n",
        "    # w * x + b\n",
        "    act = sum((wi*xi for wi, xi in zip(self.w, x)), self.b)\n",
        "    out = act.tanh()\n",
        "    return out\n",
        "\n",
        "  def parameters(self): #Returns the parameters .parameters() here → returns [w₁, w₂, …, wₙ, b] for one neuron.\n",
        "    return self.w + [self.b]\n",
        "\n",
        "class Layer: #Single layer perceptron\n",
        "\n",
        "  def __init__(self, nin, nout): #How many input neurons and output neurons in our layer\n",
        "    self.neurons = [Neuron(nin) for _ in range(nout)]\n",
        "\n",
        "  def __call__(self, x):\n",
        "    outs = [n(x) for n in self.neurons]\n",
        "    return outs[0] if len(outs) == 1 else outs\n",
        "\n",
        "  def parameters(self):\n",
        "    return [p for neuron in self.neurons for p in neuron.parameters()]\n",
        "\n",
        "class MLP: #Multi layer perceptron\n",
        "\n",
        "  def __init__(self, nin, nouts): #How many input and output's' neuron(it will be in list format.List contains size of all the layers that we want)\n",
        "    sz = [nin] + nouts #overall size\n",
        "    self.layers = [Layer(sz[i], sz[i+1]) for i in range(len(nouts))] #iterate over consecutive pairs and creates layer\n",
        "\n",
        "  def __call__(self, x): #Calls each layer sequentially\n",
        "    for layer in self.layers:\n",
        "      x = layer(x)\n",
        "    return x\n",
        "\n",
        "  def parameters(self):\n",
        "    return [p for layer in self.layers for p in layer.parameters()]"
      ],
      "metadata": {
        "id": "oYrpQiUdVWVC"
      },
      "execution_count": 151,
      "outputs": []
    },
    {
      "cell_type": "code",
      "source": [
        "#Single layer perceptron\n",
        "x =[2.0,3.0]\n",
        "n = Neuron(2)\n",
        "n(x)"
      ],
      "metadata": {
        "colab": {
          "base_uri": "https://localhost:8080/"
        },
        "id": "gYnYH7hIalew",
        "outputId": "060f88d3-2a6f-4357-8ffd-c791c59fb5c0"
      },
      "execution_count": 83,
      "outputs": [
        {
          "output_type": "execute_result",
          "data": {
            "text/plain": [
              "Value(data=0.9983840912950052)"
            ]
          },
          "metadata": {},
          "execution_count": 83
        }
      ]
    },
    {
      "cell_type": "code",
      "source": [
        "n = Layer(2,3) #Multi output layered perceptron\n",
        "n(x)"
      ],
      "metadata": {
        "colab": {
          "base_uri": "https://localhost:8080/"
        },
        "id": "cXpqdw2OZH4Z",
        "outputId": "d5336081-d8d0-41b4-bebc-e41d1e3f6ea9"
      },
      "execution_count": 40,
      "outputs": [
        {
          "output_type": "execute_result",
          "data": {
            "text/plain": [
              "[Value(data=-0.9974633086190509),\n",
              " Value(data=0.8494550685846516),\n",
              " Value(data=0.9900095928898773)]"
            ]
          },
          "metadata": {},
          "execution_count": 40
        }
      ]
    },
    {
      "cell_type": "code",
      "source": [
        "#Multi layer perceptron\n",
        "x = [2.0,3.0,-1.0]\n",
        "n = MLP(3,[4,4,1]) #2 layers of 4 and one output\n",
        "n(x)"
      ],
      "metadata": {
        "colab": {
          "base_uri": "https://localhost:8080/"
        },
        "id": "2422YG6iZLCv",
        "outputId": "72c24cee-e59b-427e-978a-a109f865fc15"
      },
      "execution_count": 199,
      "outputs": [
        {
          "output_type": "execute_result",
          "data": {
            "text/plain": [
              "Value(data=-0.8526485060745407)"
            ]
          },
          "metadata": {},
          "execution_count": 199
        }
      ]
    },
    {
      "cell_type": "code",
      "source": [
        "n.parameters()"
      ],
      "metadata": {
        "colab": {
          "base_uri": "https://localhost:8080/"
        },
        "id": "B_S2VNj1oKRR",
        "outputId": "944577ef-c5d9-4c3d-a0e2-870d890256ee"
      },
      "execution_count": 200,
      "outputs": [
        {
          "output_type": "execute_result",
          "data": {
            "text/plain": [
              "[Value(data=-0.7147601370582204),\n",
              " Value(data=-0.26467951983356497),\n",
              " Value(data=-0.7480895171278013),\n",
              " Value(data=0.5047383554056366),\n",
              " Value(data=0.6721007711987854),\n",
              " Value(data=0.8293029823415166),\n",
              " Value(data=0.7793989311092022),\n",
              " Value(data=-0.11928096999246485),\n",
              " Value(data=-0.9254091526989698),\n",
              " Value(data=-0.6873909724598211),\n",
              " Value(data=-0.7510288578896904),\n",
              " Value(data=-0.3959918688738657),\n",
              " Value(data=0.4444232623433766),\n",
              " Value(data=0.5641099631986908),\n",
              " Value(data=0.3790697513771968),\n",
              " Value(data=-0.9301632903986723),\n",
              " Value(data=-0.4960162163778852),\n",
              " Value(data=0.6987144884249605),\n",
              " Value(data=-0.8317155240223886),\n",
              " Value(data=0.1371332955450344),\n",
              " Value(data=-0.0018715897083552147),\n",
              " Value(data=0.42894499199618896),\n",
              " Value(data=-0.3221862418097703),\n",
              " Value(data=-0.7064821136825994),\n",
              " Value(data=0.3673414086295077),\n",
              " Value(data=-0.5708316794959853),\n",
              " Value(data=-0.001055680580297702),\n",
              " Value(data=0.6586194064772426),\n",
              " Value(data=0.4377086228294813),\n",
              " Value(data=-0.6706524903418438),\n",
              " Value(data=0.8828055975216675),\n",
              " Value(data=0.4585911307238699),\n",
              " Value(data=-0.869895683511976),\n",
              " Value(data=-0.51779871817842),\n",
              " Value(data=0.4406395526600726),\n",
              " Value(data=0.8628981272861442),\n",
              " Value(data=-0.9548250812933037),\n",
              " Value(data=0.2512372274510404),\n",
              " Value(data=0.4649436416417818),\n",
              " Value(data=-0.5223881380822719),\n",
              " Value(data=-0.2610698096891506)]"
            ]
          },
          "metadata": {},
          "execution_count": 200
        }
      ]
    },
    {
      "cell_type": "markdown",
      "source": [
        "#Creating a tiny dataset, writing a loss function\n"
      ],
      "metadata": {
        "id": "aLQdHSykccIK"
      }
    },
    {
      "cell_type": "code",
      "source": [
        "xs = [\n",
        "  [2.0, 3.0, -1.0],\n",
        "  [3.0, -1.0, 0.5],\n",
        "  [0.5, 1.0, 1.0],\n",
        "  [1.0, 1.0, -1.0],\n",
        "] #4 possible inputs in NN\n",
        "ys = [1.0, -1.0, -1.0, 1.0] # desired targets that we'd like the NN to take as output\n",
        "ypred= [n(x) for x in xs]\n",
        "ypred #Output shows that its not performing well as values are not close to the desired targets"
      ],
      "metadata": {
        "colab": {
          "base_uri": "https://localhost:8080/"
        },
        "id": "DnL6qjrdbUnH",
        "outputId": "c1364238-7809-4325-ca8c-ec661c371f72"
      },
      "execution_count": 201,
      "outputs": [
        {
          "output_type": "execute_result",
          "data": {
            "text/plain": [
              "[Value(data=-0.8526485060745407),\n",
              " Value(data=-0.7761861852735247),\n",
              " Value(data=-0.7973721409490491),\n",
              " Value(data=-0.7500280727940835)]"
            ]
          },
          "metadata": {},
          "execution_count": 201
        }
      ]
    },
    {
      "cell_type": "code",
      "source": [
        "#Loss function helps to measure how our neural networks performes\n",
        "#Since above we can see that the values are not performing well, it means that the loss is 'High'\n",
        "#So we are going to minimize the loss by 'Mean squared error' loss\n",
        "\n",
        "loss = sum([(yout - ygt)**2 for ygt , yout in zip(ys,ypred)])#ygt = y ground truth\n",
        "#Regardless of more negative/more positive , we get positive number as output\n",
        "loss"
      ],
      "metadata": {
        "id": "lW3yaOJocGdr",
        "colab": {
          "base_uri": "https://localhost:8080/"
        },
        "outputId": "f6208b35-a6bc-486d-e61b-fec67dad4968"
      },
      "execution_count": 202,
      "outputs": [
        {
          "output_type": "execute_result",
          "data": {
            "text/plain": [
              "Value(data=6.5860554155535915)"
            ]
          },
          "metadata": {},
          "execution_count": 202
        }
      ]
    },
    {
      "cell_type": "code",
      "source": [
        "#Loss can be lowest to the zero and greater means we have a probelm\n",
        "loss.backward()"
      ],
      "metadata": {
        "id": "0mm1tX80e1pP"
      },
      "execution_count": 203,
      "outputs": []
    },
    {
      "cell_type": "code",
      "source": [
        "n.layers[0].neurons[0].w[0].grad #We are visiting the 1st layer's 1st neuron's weight's gradient on the loss"
      ],
      "metadata": {
        "colab": {
          "base_uri": "https://localhost:8080/"
        },
        "id": "6EcqRU3zggmW",
        "outputId": "dab48d28-9a7b-42b3-dc9d-29e2c89bfc04"
      },
      "execution_count": 204,
      "outputs": [
        {
          "output_type": "execute_result",
          "data": {
            "text/plain": [
              "-0.26118456644610716"
            ]
          },
          "metadata": {},
          "execution_count": 204
        }
      ]
    },
    {
      "cell_type": "markdown",
      "source": [
        "We can see this value is negative so its influence on the loss function is also negative so slightly increasing the weight of this neuron would make the loss go down. And we actually have this information for every single one of our neurons and their paramaters.\n"
      ],
      "metadata": {
        "id": "3C8QRufyhEOX"
      }
    },
    {
      "cell_type": "code",
      "source": [
        "#draw_dot(loss)\n",
        "#The graph is big becoz we have 4 forward passes of a single neural net for every one of the examples has loss on top and finally ends with value of loss"
      ],
      "metadata": {
        "id": "XqtMd_1ogyAe"
      },
      "execution_count": 96,
      "outputs": []
    },
    {
      "cell_type": "code",
      "source": [
        "n.layers[0].neurons[0].w[0].data"
      ],
      "metadata": {
        "colab": {
          "base_uri": "https://localhost:8080/"
        },
        "id": "c3NHKS0rhfEu",
        "outputId": "733c4ff5-c759-4152-f772-838ba71b8284"
      },
      "execution_count": 205,
      "outputs": [
        {
          "output_type": "execute_result",
          "data": {
            "text/plain": [
              "-0.7147601370582204"
            ]
          },
          "metadata": {},
          "execution_count": 205
        }
      ]
    },
    {
      "cell_type": "markdown",
      "source": [
        "#Doing gradient descent optimization manually ; Training the network\n"
      ],
      "metadata": {
        "id": "wA1tEEBII5QC"
      }
    },
    {
      "cell_type": "code",
      "source": [
        "#For all p (41 paramaters here) we are going to iterate to change p's data slightly according to the gradient information\n",
        "\n",
        "for p in n.parameters():\n",
        "  p.data += - 0.01 * p.grad #0.01 is the step size\n",
        "  #So the p's data is dependent on p.grad so increasing the value of grad helps us to decrease the loss.\n",
        "\n"
      ],
      "metadata": {
        "id": "h2orUVs3o_xO"
      },
      "execution_count": 162,
      "outputs": []
    },
    {
      "cell_type": "code",
      "source": [
        "#After running the above cell, we'll check whether the data value is decreased\n",
        "n.layers[0].neurons[0].w[0].data"
      ],
      "metadata": {
        "colab": {
          "base_uri": "https://localhost:8080/"
        },
        "id": "pwTv2BHXLFkz",
        "outputId": "28261437-c154-43fc-9ae4-17e3dc09a107"
      },
      "execution_count": 163,
      "outputs": [
        {
          "output_type": "execute_result",
          "data": {
            "text/plain": [
              "-0.7437396828023908"
            ]
          },
          "metadata": {},
          "execution_count": 163
        }
      ]
    },
    {
      "cell_type": "code",
      "source": [
        "#Finding the loss after this:\n",
        "xs = [\n",
        "  [2.0, 3.0, -1.0],\n",
        "  [3.0, -1.0, 0.5],\n",
        "  [0.5, 1.0, 1.0],\n",
        "  [1.0, 1.0, -1.0],\n",
        "] #4 possible inputs in NN\n",
        "ys = [1.0, -1.0, -1.0, 1.0] # desired targets that we'd like the NN to take as output\n",
        "\n",
        "ypred= [n(x) for x in xs] #Forward pass\n",
        "ypred"
      ],
      "metadata": {
        "colab": {
          "base_uri": "https://localhost:8080/"
        },
        "id": "vqzj7yfJLaVt",
        "outputId": "dd2fae30-f172-4580-c6c9-5e9187004337"
      },
      "execution_count": 206,
      "outputs": [
        {
          "output_type": "execute_result",
          "data": {
            "text/plain": [
              "[Value(data=-0.8526485060745407),\n",
              " Value(data=-0.7761861852735247),\n",
              " Value(data=-0.7973721409490491),\n",
              " Value(data=-0.7500280727940835)]"
            ]
          },
          "metadata": {},
          "execution_count": 206
        }
      ]
    },
    {
      "cell_type": "code",
      "source": [
        "loss = sum([(yout - ygt)**2 for ygt , yout in zip(ys,ypred)])#ygt = y ground truth\n",
        "\n",
        "loss"
      ],
      "metadata": {
        "colab": {
          "base_uri": "https://localhost:8080/"
        },
        "id": "DnPbIOoxPo10",
        "outputId": "0df42820-ae17-4ece-c9a5-3f3727bf28fe"
      },
      "execution_count": 207,
      "outputs": [
        {
          "output_type": "execute_result",
          "data": {
            "text/plain": [
              "Value(data=6.5860554155535915)"
            ]
          },
          "metadata": {},
          "execution_count": 207
        }
      ]
    },
    {
      "cell_type": "markdown",
      "source": [
        "We can see that the loss has been reduced"
      ],
      "metadata": {
        "id": "5OcJQyubMGNw"
      }
    },
    {
      "cell_type": "code",
      "source": [
        "#We have checked for the forward pass . Now we'll run the backward and try loss again --- Backward Pass ---\n",
        "loss.backward()"
      ],
      "metadata": {
        "id": "vU7yNQpQLv7K"
      },
      "execution_count": 297,
      "outputs": []
    },
    {
      "cell_type": "code",
      "source": [
        "for p in n.parameters(): #Running the parameters again\n",
        "  p.data += -0.1 * p.grad\n",
        "\n",
        "#Finding the step size/learning rate is a subtle art. If its too low, our model is gonna explode or too high"
      ],
      "metadata": {
        "id": "TAeHASUEMhH2"
      },
      "execution_count": 301,
      "outputs": []
    },
    {
      "cell_type": "markdown",
      "source": [
        "| Learning rate | What happens                     | Example in your network                                    |\n",
        "| ------------- | -------------------------------- | ---------------------------------------------------------- |\n",
        "| Too high      | Loss jumps, oscillates, explodes | `lr = 1.0` → loss suddenly goes from 2 → 20 → NaN          |\n",
        "| Too low       | Loss decreases very slowly       | `lr = 0.0001` → loss goes 2 → 1.999 → 1.998 over 50 epochs |\n",
        "| Just right    | Smooth decrease, converges fast  | `lr = 0.01` → loss goes 2 → 0.1 over 50 epochs             |\n"
      ],
      "metadata": {
        "id": "7kRp3RzwSe5L"
      }
    },
    {
      "cell_type": "code",
      "source": [
        "ypred= [n(x) for x in xs] #Forward pass\n",
        "loss = sum([(yout - ygt)**2 for ygt , yout in zip(ys,ypred)])#ygt = y ground truth\n",
        "\n",
        "loss #We can see that the loss function is reduced after running backward pass > updating parameters > forward pass"
      ],
      "metadata": {
        "colab": {
          "base_uri": "https://localhost:8080/"
        },
        "id": "qRx2oL34Mb9q",
        "outputId": "6872437f-0930-4238-fdf8-2fb24e1d76e3"
      },
      "execution_count": 302,
      "outputs": [
        {
          "output_type": "execute_result",
          "data": {
            "text/plain": [
              "Value(data=2.597168703294401e-07)"
            ]
          },
          "metadata": {},
          "execution_count": 302
        }
      ]
    },
    {
      "cell_type": "code",
      "source": [
        "ypred"
      ],
      "metadata": {
        "colab": {
          "base_uri": "https://localhost:8080/"
        },
        "id": "AYLY7wJcPed1",
        "outputId": "44b65b1e-7013-4050-a22c-a7d36b588bda"
      },
      "execution_count": 303,
      "outputs": [
        {
          "output_type": "execute_result",
          "data": {
            "text/plain": [
              "[Value(data=0.999490530458034),\n",
              " Value(data=-0.9999997385364902),\n",
              " Value(data=-0.9999999998208425),\n",
              " Value(data=0.9999874466030398)]"
            ]
          },
          "metadata": {},
          "execution_count": 303
        }
      ]
    },
    {
      "cell_type": "code",
      "source": [
        "n.parameters() #The updated weight and bias setting of our NN that predicts the target value very very close"
      ],
      "metadata": {
        "colab": {
          "base_uri": "https://localhost:8080/"
        },
        "id": "IdRGKQbQSlZn",
        "outputId": "b86875f5-dbfb-41ad-d61e-db1d2245227d"
      },
      "execution_count": 304,
      "outputs": [
        {
          "output_type": "execute_result",
          "data": {
            "text/plain": [
              "[Value(data=0.826821107907487),\n",
              " Value(data=2.1196279958019795),\n",
              " Value(data=-4.176220503387442),\n",
              " Value(data=0.6560820313708766),\n",
              " Value(data=0.014065987542265623),\n",
              " Value(data=0.6427617492774426),\n",
              " Value(data=1.1243390014388424),\n",
              " Value(data=-0.47507813600883014),\n",
              " Value(data=-0.4499395721227194),\n",
              " Value(data=-0.21978539768422176),\n",
              " Value(data=-1.1918494295413613),\n",
              " Value(data=0.0850743278720553),\n",
              " Value(data=0.7807185679452193),\n",
              " Value(data=-1.2880002356343279),\n",
              " Value(data=2.2910973863364075),\n",
              " Value(data=-0.9130477418976319),\n",
              " Value(data=-2.7340880825663545),\n",
              " Value(data=0.02560315568994556),\n",
              " Value(data=0.31952018249548614),\n",
              " Value(data=1.485633008836416),\n",
              " Value(data=-1.4771893309252904),\n",
              " Value(data=2.924787911324607),\n",
              " Value(data=-1.077085276225153),\n",
              " Value(data=0.012764705463151282),\n",
              " Value(data=-0.15060803453179905),\n",
              " Value(data=-1.1612928443808856),\n",
              " Value(data=1.1399176114225849),\n",
              " Value(data=0.4630834592376223),\n",
              " Value(data=0.6128143933817771),\n",
              " Value(data=-0.33255306862318745),\n",
              " Value(data=0.7904447415172973),\n",
              " Value(data=0.35128496410252),\n",
              " Value(data=-1.1656327752537845),\n",
              " Value(data=0.007335513710541058),\n",
              " Value(data=-0.4138839781303719),\n",
              " Value(data=0.2049039037847269),\n",
              " Value(data=-5.220474978755348),\n",
              " Value(data=2.4958517804878553),\n",
              " Value(data=-2.542168049615464),\n",
              " Value(data=3.7997436542518335),\n",
              " Value(data=-2.8281064578416992)]"
            ]
          },
          "metadata": {},
          "execution_count": 304
        }
      ]
    },
    {
      "cell_type": "markdown",
      "source": [
        "##This is how gradient decent Neural Network improve its predictions:\n",
        "\n",
        "Running flow : Forward pass -> Backward pass -> Update the parameters and this keeps on going\n",
        "\n",
        "Summary\n",
        "\n",
        "Run many epochs (forward → backward → update).\n",
        "\n",
        "Goal: reduce loss as low as possible. For your tiny dataset, 0 is possible.\n",
        "\n",
        "Always recompute forward loss after weight update — that’s the number you track."
      ],
      "metadata": {
        "id": "M0W0EfoSPCWR"
      }
    },
    {
      "cell_type": "markdown",
      "source": [
        "#Implementing an actual training loop"
      ],
      "metadata": {
        "id": "WCrnT3vKS6wG"
      }
    },
    {
      "cell_type": "code",
      "source": [
        "#Multi layer perceptron\n",
        "x = [2.0,3.0,-1.0]\n",
        "n = MLP(3,[4,4,1]) #2 layers of 4 and one output\n",
        "n(x)"
      ],
      "metadata": {
        "colab": {
          "base_uri": "https://localhost:8080/"
        },
        "id": "GIgce5djU5Yr",
        "outputId": "86ae033e-be1f-428b-d79a-7903a9040002"
      },
      "execution_count": 311,
      "outputs": [
        {
          "output_type": "execute_result",
          "data": {
            "text/plain": [
              "Value(data=-0.4947032452384504)"
            ]
          },
          "metadata": {},
          "execution_count": 311
        }
      ]
    },
    {
      "cell_type": "code",
      "source": [
        "#Input\n",
        "\n",
        "xs = [\n",
        "  [2.0, 3.0, -1.0],\n",
        "  [3.0, -1.0, 0.5],\n",
        "  [0.5, 1.0, 1.0],\n",
        "  [1.0, 1.0, -1.0],\n",
        "] #4 possible inputs in NN\n",
        "ys = [1.0, -1.0, -1.0, 1.0] #desired target"
      ],
      "metadata": {
        "id": "J7VsmJUFMlJS"
      },
      "execution_count": 312,
      "outputs": []
    },
    {
      "cell_type": "code",
      "source": [
        "for k in range(20):\n",
        "\n",
        "  # forward pass\n",
        "  ypred = [n(x) for x in xs]\n",
        "  loss = sum((yout - ygt)**2 for ygt, yout in zip(ys, ypred))\n",
        "\n",
        "  # backward pass\n",
        "  for p in n.parameters():\n",
        "    p.grad = 0.0\n",
        "  loss.backward()\n",
        "\n",
        "  # update - gradient descent\n",
        "  for p in n.parameters():\n",
        "    p.data += -0.1 * p.grad\n",
        "\n",
        "  print(k, loss.data)"
      ],
      "metadata": {
        "colab": {
          "base_uri": "https://localhost:8080/"
        },
        "id": "_-nxVcANTIpD",
        "outputId": "5662e411-dd8e-4d9e-9c4f-e707a30507b7"
      },
      "execution_count": 338,
      "outputs": [
        {
          "output_type": "stream",
          "name": "stdout",
          "text": [
            "0 0.0012296151285591792\n",
            "1 0.0012225439948784758\n",
            "2 0.0012155514167984634\n",
            "3 0.0012086361071588757\n",
            "4 0.0012017968066061373\n",
            "5 0.001195032282848937\n",
            "6 0.001188341329937475\n",
            "7 0.0011817227675657406\n",
            "8 0.001175175440395659\n",
            "9 0.0011686982174024954\n",
            "10 0.0011622899912407786\n",
            "11 0.0011559496776298256\n",
            "12 0.001149676214758349\n",
            "13 0.0011434685627073568\n",
            "14 0.0011373257028906305\n",
            "15 0.0011312466375123999\n",
            "16 0.0011252303890413292\n",
            "17 0.0011192759997003174\n",
            "18 0.0011133825309718416\n",
            "19 0.0011075490631177194\n"
          ]
        }
      ]
    },
    {
      "cell_type": "code",
      "source": [
        "ypred"
      ],
      "metadata": {
        "colab": {
          "base_uri": "https://localhost:8080/"
        },
        "id": "VTlQep0rUn20",
        "outputId": "7fae759b-4a02-4468-82d7-31241dadb8b8"
      },
      "execution_count": 339,
      "outputs": [
        {
          "output_type": "execute_result",
          "data": {
            "text/plain": [
              "[Value(data=0.9845305363860356),\n",
              " Value(data=-0.9851996167988831),\n",
              " Value(data=-0.9821674715248591),\n",
              " Value(data=0.9818012543317586)]"
            ]
          },
          "metadata": {},
          "execution_count": 339
        }
      ]
    },
    {
      "cell_type": "markdown",
      "source": [
        "Run the above 2 cells till you get the ypred values close to ys"
      ],
      "metadata": {
        "id": "Ae9rZVtOVlOV"
      }
    }
  ]
}